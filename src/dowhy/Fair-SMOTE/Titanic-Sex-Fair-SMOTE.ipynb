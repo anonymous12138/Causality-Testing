{
 "cells": [
  {
   "cell_type": "code",
   "execution_count": null,
   "metadata": {},
   "outputs": [],
   "source": [
    "# Example - https://github.com/cornelliusyudhawijaya/Churn_Causality_Analysis/blob/main/Causal%20Analysis%20Do%20Why.ipynb\n",
    "    \n",
    "import numpy as np\n",
    "import pandas as pd\n",
    "\n",
    "from dowhy import CausalModel\n",
    "import dowhy.datasets\n",
    "\n",
    "from sklearn.linear_model import LogisticRegression\n",
    "from sklearn.tree import DecisionTreeRegressor\n",
    "from sklearn.model_selection import train_test_split\n",
    "from sklearn.metrics import classification_report, confusion_matrix, accuracy_score\n",
    "import sklearn.metrics as metrics\n",
    "\n",
    "\n",
    "import sys,os\n",
    "sys.path.append(os.path.abspath('..'))\n",
    "\n",
    "\n",
    "from Measure import measure_final_score,calculate_recall,calculate_far,calculate_precision,calculate_accuracy\n",
    "from Generate_Samples import generate_samples\n",
    "\n",
    "# Avoid printing dataconversion warnings from sklearn and numpy\n",
    "import warnings\n",
    "from sklearn.exceptions import DataConversionWarning\n",
    "warnings.filterwarnings('ignore')"
   ]
  },
  {
   "cell_type": "markdown",
   "metadata": {},
   "source": [
    "# Prepare Data"
   ]
  },
  {
   "cell_type": "code",
   "execution_count": null,
   "metadata": {},
   "outputs": [],
   "source": [
    "data = pd.read_csv('../../../data/Titanic.csv')\n",
    "\n",
    "## Drop categorical features\n",
    "data = data.drop(['Name','Ticket','Cabin','PassengerId','Embarked'],axis=1)\n",
    "\n",
    "## Drop NULL values\n",
    "data = data.dropna()\n",
    "\n",
    "## Drop NULL values\n",
    "data = data.fillna(0)\n",
    "\n",
    "## Change symbolics to numerics\n",
    "data['sex'] = np.where(data['sex'] == 'male', 0, 1)\n",
    "\n",
    "protected_attribute = 'sex'\n",
    "\n",
    "from sklearn.preprocessing import MinMaxScaler\n",
    "\n",
    "scaler = MinMaxScaler()\n",
    "dataset_orig = pd.DataFrame(scaler.fit_transform(data),columns = data.columns)\n",
    "\n",
    "dataset_orig_train, dataset_orig_test = train_test_split(dataset_orig, test_size=0.2, shuffle = True)\n",
    "\n",
    "\n",
    "(dataset_orig.head(5))"
   ]
  },
  {
   "cell_type": "markdown",
   "metadata": {},
   "source": [
    "# Fair-SMOTE"
   ]
  },
  {
   "cell_type": "code",
   "execution_count": null,
   "metadata": {},
   "outputs": [],
   "source": [
    "# first one is class value and second one is protected attribute value\n",
    "zero_zero = len(dataset_orig_train[(dataset_orig_train['Probability'] == 0) & (dataset_orig_train[protected_attribute] == 0)])\n",
    "zero_one = len(dataset_orig_train[(dataset_orig_train['Probability'] == 0) & (dataset_orig_train[protected_attribute] == 1)])\n",
    "one_zero = len(dataset_orig_train[(dataset_orig_train['Probability'] == 1) & (dataset_orig_train[protected_attribute] == 0)])\n",
    "one_one = len(dataset_orig_train[(dataset_orig_train['Probability'] == 1) & (dataset_orig_train[protected_attribute] == 1)])\n",
    "print(zero_zero,zero_one,one_zero,one_one)\n",
    "\n",
    "maximum = max(zero_zero,zero_one,one_zero,one_one)\n",
    "if maximum == zero_zero:\n",
    "    print(\"zero_zero is maximum\")\n",
    "if maximum == zero_one:\n",
    "    print(\"zero_one is maximum\")\n",
    "if maximum == one_zero:\n",
    "    print(\"one_zero is maximum\")\n",
    "if maximum == one_one:\n",
    "    print(\"one_one is maximum\")\n",
    "    \n",
    "zero_zero_to_be_incresed = maximum - zero_zero ## where class is 0 attribute is 1\n",
    "one_zero_to_be_incresed = maximum - one_zero ## where class is 1 attribute is 0\n",
    "one_one_to_be_incresed = maximum - one_one ## where class is 1 attribute is 1\n",
    "print(zero_zero_to_be_incresed,one_zero_to_be_incresed,one_one_to_be_incresed)\n",
    "\n",
    "df_zero_zero = dataset_orig_train[(dataset_orig_train['Probability'] == 0) & (dataset_orig_train[protected_attribute] == 0)]\n",
    "df_one_zero = dataset_orig_train[(dataset_orig_train['Probability'] == 1) & (dataset_orig_train[protected_attribute] == 0)]\n",
    "df_one_one = dataset_orig_train[(dataset_orig_train['Probability'] == 1) & (dataset_orig_train[protected_attribute] == 1)]\n",
    "\n",
    "\n",
    "df_zero_zero['sex'] = df_zero_zero['sex'].astype(str)\n",
    "\n",
    "df_one_zero['sex'] = df_one_zero['sex'].astype(str)\n",
    "\n",
    "df_one_one['sex'] = df_one_one['sex'].astype(str)\n",
    "\n",
    "\n",
    "df_zero_zero = generate_samples(zero_zero_to_be_incresed,df_zero_zero,'Titanic')\n",
    "df_one_zero = generate_samples(one_zero_to_be_incresed,df_one_zero,'Titanic')\n",
    "df_one_one = generate_samples(one_one_to_be_incresed,df_one_one,'Titanic')\n",
    "\n",
    "df = df_zero_zero.append(df_one_zero)\n",
    "df = df.append(df_one_one)\n",
    "\n",
    "df['sex'] = df['sex'].astype(float)\n",
    "\n",
    "df_zero_one = dataset_orig_train[(dataset_orig_train['Probability'] == 0) & (dataset_orig_train[protected_attribute] == 1)]\n",
    "df = df.append(df_zero_one)"
   ]
  },
  {
   "cell_type": "markdown",
   "metadata": {},
   "source": [
    "# Fairness Metrics"
   ]
  },
  {
   "cell_type": "code",
   "execution_count": null,
   "metadata": {},
   "outputs": [],
   "source": [
    "from sklearn.linear_model import LogisticRegression\n",
    "from Measure import measure_final_score,calculate_recall,calculate_far,calculate_precision,calculate_accuracy\n",
    "\n",
    "X_train, y_train =  df.loc[:, df.columns != 'Probability'], df['Probability']\n",
    "X_test, y_test = dataset_orig_test.loc[:, dataset_orig_test.columns != 'Probability'], dataset_orig_test['Probability']\n",
    "        \n",
    "clf = LogisticRegression(C=1.0, penalty='l2', solver='liblinear', max_iter=100) # LSR\n",
    "clf.fit(X_train,y_train)\n",
    "\n",
    "print(\"aod :\"+protected_attribute,measure_final_score(dataset_orig_test, clf, X_train, y_train, X_test, y_test, protected_attribute, 'aod'))\n",
    "print(\"eod :\"+protected_attribute,measure_final_score(dataset_orig_test, clf, X_train, y_train, X_test, y_test, protected_attribute, 'eod'))\n",
    "print(\"SPD:\",measure_final_score(dataset_orig_test, clf, X_train, y_train, X_test, y_test, protected_attribute, 'SPD'))\n",
    "print(\"DI:\",measure_final_score(dataset_orig_test, clf, X_train, y_train, X_test, y_test, protected_attribute, 'DI'))"
   ]
  },
  {
   "cell_type": "markdown",
   "metadata": {},
   "source": [
    "# Graph"
   ]
  },
  {
   "cell_type": "code",
   "execution_count": null,
   "metadata": {},
   "outputs": [],
   "source": [
    "causal_graph = \"\"\"\n",
    "digraph {\n",
    "Age;\n",
    "sex;\n",
    "Fare;\n",
    "Probability;\n",
    "U[label=\"Unobserved Confounders\"];\n",
    "Age -> Probability;\n",
    "sex -> Probability;\n",
    "sex -> Fare; Fare -> Probability;\n",
    "U->sex;U->Probability;\n",
    "}\n",
    "\"\"\"\n",
    "\n",
    "## dowhy works for binary inputs only\n",
    "df['Probability'] = np.where(df['Probability'] == 0, False, True)\n",
    "df[protected_attribute] = np.where(df[protected_attribute] == 1, True, False)"
   ]
  },
  {
   "cell_type": "code",
   "execution_count": null,
   "metadata": {},
   "outputs": [],
   "source": [
    "# With graph\n",
    "model=CausalModel(\n",
    "        data = df,\n",
    "        treatment=protected_attribute,\n",
    "        outcome=\"Probability\",\n",
    "        graph=causal_graph.replace(\"\\n\", \" \")\n",
    "        )\n",
    "model.view_model()"
   ]
  },
  {
   "cell_type": "code",
   "execution_count": null,
   "metadata": {},
   "outputs": [],
   "source": [
    "identified_estimand = model.identify_effect(proceed_when_unidentifiable=True)\n",
    "print(identified_estimand)"
   ]
  },
  {
   "cell_type": "code",
   "execution_count": null,
   "metadata": {},
   "outputs": [],
   "source": [
    "causal_estimate = model.estimate_effect(identified_estimand,\n",
    "        method_name=\"backdoor.propensity_score_stratification\")\n",
    "print(causal_estimate)\n",
    "print(\"Causal Estimate is \" + str(causal_estimate.value))"
   ]
  },
  {
   "cell_type": "code",
   "execution_count": null,
   "metadata": {},
   "outputs": [],
   "source": [
    "# Causal effect on the control group (ATC)\n",
    "causal_estimate_att = model.estimate_effect(identified_estimand,\n",
    "        method_name=\"backdoor.propensity_score_stratification\",\n",
    "        target_units = \"atc\")\n",
    "print(causal_estimate_att)\n",
    "print(\"Causal Estimate is \" + str(causal_estimate_att.value))"
   ]
  },
  {
   "cell_type": "markdown",
   "metadata": {},
   "source": [
    "# Add Random Common Cause"
   ]
  },
  {
   "cell_type": "code",
   "execution_count": null,
   "metadata": {},
   "outputs": [],
   "source": [
    "refutel = model.refute_estimate(identified_estimand,causal_estimate, \"random_common_cause\")\n",
    "print(refutel)"
   ]
  },
  {
   "cell_type": "markdown",
   "metadata": {},
   "source": [
    "# Replace Treatment with Placebo"
   ]
  },
  {
   "cell_type": "code",
   "execution_count": null,
   "metadata": {},
   "outputs": [],
   "source": [
    "refutel = model.refute_estimate(identified_estimand,causal_estimate,method_name=\"placebo_treatment_refuter\",placebo_type=\"permute\")\n",
    "print(refutel)"
   ]
  },
  {
   "cell_type": "markdown",
   "metadata": {},
   "source": [
    "# Remove Random Subset of Data"
   ]
  },
  {
   "cell_type": "code",
   "execution_count": null,
   "metadata": {},
   "outputs": [],
   "source": [
    "refutel = model.refute_estimate(identified_estimand,causal_estimate, \"data_subset_refuter\")\n",
    "print(refutel)"
   ]
  },
  {
   "cell_type": "code",
   "execution_count": null,
   "metadata": {},
   "outputs": [],
   "source": []
  }
 ],
 "metadata": {
  "kernelspec": {
   "display_name": "Python 3",
   "language": "python",
   "name": "python3"
  },
  "language_info": {
   "codemirror_mode": {
    "name": "ipython",
    "version": 3
   },
   "file_extension": ".py",
   "mimetype": "text/x-python",
   "name": "python",
   "nbconvert_exporter": "python",
   "pygments_lexer": "ipython3",
   "version": "3.7.3"
  }
 },
 "nbformat": 4,
 "nbformat_minor": 2
}
