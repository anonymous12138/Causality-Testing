{
 "cells": [
  {
   "cell_type": "code",
   "execution_count": null,
   "metadata": {},
   "outputs": [],
   "source": [
    "# Example - https://github.com/cornelliusyudhawijaya/Churn_Causality_Analysis/blob/main/Causal%20Analysis%20Do%20Why.ipynb\n",
    "    \n",
    "import numpy as np\n",
    "import pandas as pd\n",
    "\n",
    "from dowhy import CausalModel\n",
    "import dowhy.datasets\n",
    "\n",
    "from sklearn.linear_model import LogisticRegression\n",
    "from sklearn.tree import DecisionTreeRegressor\n",
    "from sklearn.model_selection import train_test_split\n",
    "from sklearn.metrics import classification_report, confusion_matrix, accuracy_score\n",
    "import sklearn.metrics as metrics\n",
    "\n",
    "\n",
    "import sys,os\n",
    "sys.path.append(os.path.abspath('..'))\n",
    "\n",
    "\n",
    "from Measure import measure_final_score,calculate_recall,calculate_far,calculate_precision,calculate_accuracy\n",
    "from Generate_Samples import generate_samples\n",
    "\n",
    "# Avoid printing dataconversion warnings from sklearn and numpy\n",
    "import warnings\n",
    "from sklearn.exceptions import DataConversionWarning\n",
    "warnings.filterwarnings('ignore')"
   ]
  },
  {
   "cell_type": "markdown",
   "metadata": {},
   "source": [
    "# Prepare Data"
   ]
  },
  {
   "cell_type": "code",
   "execution_count": null,
   "metadata": {},
   "outputs": [],
   "source": [
    "from sklearn import preprocessing\n",
    "data = pd.read_csv('../../../data/h181.csv')\n",
    "\n",
    "# ## Drop NULL values\n",
    "data = data.dropna()\n",
    "\n",
    "\n",
    "data = data.rename(columns = {'FTSTU53X' : 'FTSTU', 'ACTDTY53' : 'ACTDTY', 'HONRDC53' : 'HONRDC', 'RTHLTH53' : 'RTHLTH',\n",
    "                              'MNHLTH53' : 'MNHLTH', 'CHBRON53' : 'CHBRON', 'JTPAIN53' : 'JTPAIN', 'PREGNT53' : 'PREGNT',\n",
    "                              'WLKLIM53' : 'WLKLIM', 'ACTLIM53' : 'ACTLIM', 'SOCLIM53' : 'SOCLIM', 'COGLIM53' : 'COGLIM',\n",
    "                              'EMPST53' : 'EMPST', 'REGION53' : 'REGION', 'MARRY53X' : 'MARRY', 'AGE53X' : 'AGE',\n",
    "                              'POVCAT15' : 'POVCAT', 'INSCOV15' : 'INSCOV'})\n",
    "\n",
    "\n",
    "data = data[data['PANEL'] == 20]\n",
    "data = data[data['REGION'] >= 0] # remove values -1\n",
    "data = data[data['AGE'] >= 0] # remove values -1\n",
    "data = data[data['MARRY'] >= 0] # remove values -1, -7, -8, -9\n",
    "data = data[data['ASTHDX'] >= 0] # remove values -1, -7, -8, -9\n",
    "data = data[(data[['FTSTU','ACTDTY','HONRDC','RTHLTH','MNHLTH','HIBPDX','CHDDX','ANGIDX','EDUCYR','HIDEG',\n",
    "                             'MIDX','OHRTDX','STRKDX','EMPHDX','CHBRON','CHOLDX','CANCERDX','DIABDX',\n",
    "                             'JTPAIN','ARTHDX','ARTHTYPE','ASTHDX','ADHDADDX','PREGNT','WLKLIM',\n",
    "                             'ACTLIM','SOCLIM','COGLIM','DFHEAR42','DFSEE42','ADSMOK42',\n",
    "                             'PHQ242','EMPST','POVCAT','INSCOV']] >= -1).all(1)]\n",
    "\n",
    "# ## Change symbolics to numerics\n",
    "data['RACEV2X'] = np.where((data['HISPANX'] == 2 ) & (data['RACEV2X'] == 1), 1, data['RACEV2X'])\n",
    "data['RACEV2X'] = np.where(data['RACEV2X'] != 1 , 0, data['RACEV2X'])\n",
    "data = data.rename(columns={\"RACEV2X\" : \"RACE\"})\n",
    "# data['UTILIZATION'] = np.where(data['UTILIZATION'] >= 10, 1, 0)\n",
    "\n",
    "\n",
    "\n",
    "def utilization(row):\n",
    "        return row['OBTOTV15'] + row['OPTOTV15'] + row['ERTOT15'] + row['IPNGTD15'] + row['HHTOTD15']\n",
    "\n",
    "data['TOTEXP15'] = data.apply(lambda row: utilization(row), axis=1)\n",
    "lessE = data['TOTEXP15'] < 10.0\n",
    "data.loc[lessE,'TOTEXP15'] = 0.0\n",
    "moreE = data['TOTEXP15'] >= 10.0\n",
    "data.loc[moreE,'TOTEXP15'] = 1.0\n",
    "\n",
    "data = data.rename(columns = {'TOTEXP15' : 'UTILIZATION'})\n",
    "\n",
    "data = data[['REGION','AGE','SEX','RACE','MARRY',\n",
    "                                 'FTSTU','ACTDTY','HONRDC','RTHLTH','MNHLTH','HIBPDX','CHDDX','ANGIDX',\n",
    "                                 'MIDX','OHRTDX','STRKDX','EMPHDX','CHBRON','CHOLDX','CANCERDX','DIABDX',\n",
    "                                 'JTPAIN','ARTHDX','ARTHTYPE','ASTHDX','ADHDADDX','PREGNT','WLKLIM',\n",
    "                                 'ACTLIM','SOCLIM','COGLIM','DFHEAR42','DFSEE42', 'ADSMOK42',\n",
    "                                 'PCS42','MCS42','K6SUM42','PHQ242','EMPST','POVCAT','INSCOV','UTILIZATION', 'PERWT15F']]\n",
    "\n",
    "dataset_orig = data.rename(columns={\"UTILIZATION\": \"Probability\",\"RACE\" : \"race\"})\n",
    "protected_attribute = 'race'\n",
    "\n",
    "\n",
    "from sklearn.preprocessing import MinMaxScaler\n",
    "\n",
    "scaler = MinMaxScaler()\n",
    "dataset_orig = pd.DataFrame(scaler.fit_transform(dataset_orig),columns = dataset_orig.columns)\n",
    "\n",
    "dataset_orig_train, dataset_orig_test = train_test_split(dataset_orig, test_size=0.2, random_state=0,shuffle = True)\n",
    "\n",
    "(dataset_orig.head(5))"
   ]
  },
  {
   "cell_type": "markdown",
   "metadata": {},
   "source": [
    "# Fair-SMOTE"
   ]
  },
  {
   "cell_type": "code",
   "execution_count": null,
   "metadata": {},
   "outputs": [],
   "source": [
    "# first one is class value and second one is protected attribute value\n",
    "zero_zero = len(dataset_orig_train[(dataset_orig_train['Probability'] == 0) & (dataset_orig_train[protected_attribute] == 0)])\n",
    "zero_one = len(dataset_orig_train[(dataset_orig_train['Probability'] == 0) & (dataset_orig_train[protected_attribute] == 1)])\n",
    "one_zero = len(dataset_orig_train[(dataset_orig_train['Probability'] == 1) & (dataset_orig_train[protected_attribute] == 0)])\n",
    "one_one = len(dataset_orig_train[(dataset_orig_train['Probability'] == 1) & (dataset_orig_train[protected_attribute] == 1)])\n",
    "print(zero_zero,zero_one,one_zero,one_one)\n",
    "\n",
    "maximum = max(zero_zero,zero_one,one_zero,one_one)\n",
    "if maximum == zero_zero:\n",
    "    print(\"zero_zero is maximum\")\n",
    "if maximum == zero_one:\n",
    "    print(\"zero_one is maximum\")\n",
    "if maximum == one_zero:\n",
    "    print(\"one_zero is maximum\")\n",
    "if maximum == one_one:\n",
    "    print(\"one_one is maximum\")\n",
    "    \n",
    "zero_zero_to_be_incresed = maximum - zero_zero ## where both are 0\n",
    "one_zero_to_be_incresed = maximum - one_zero ## where class is 1 attribute is 0\n",
    "one_one_to_be_incresed = maximum - one_one ## where class is 1 attribute is 1\n",
    "print(zero_zero_to_be_incresed,one_zero_to_be_incresed,one_one_to_be_incresed)\n",
    "\n",
    "df_zero_zero = dataset_orig_train[(dataset_orig_train['Probability'] == 0) & (dataset_orig_train[protected_attribute] == 0)]\n",
    "df_one_zero = dataset_orig_train[(dataset_orig_train['Probability'] == 1) & (dataset_orig_train[protected_attribute] == 0)]\n",
    "df_one_one = dataset_orig_train[(dataset_orig_train['Probability'] == 1) & (dataset_orig_train[protected_attribute] == 1)]\n",
    "\n",
    "df_zero_zero['race'] = df_zero_zero['race'].astype(str)\n",
    "\n",
    "\n",
    "df_one_zero['race'] = df_one_zero['race'].astype(str)\n",
    "\n",
    "df_one_one['race'] = df_one_one['race'].astype(str)\n",
    "\n",
    "\n",
    "df_zero_zero = generate_samples(zero_zero_to_be_incresed,df_zero_zero,'MEPS')\n",
    "df_one_zero = generate_samples(one_zero_to_be_incresed,df_one_zero,'MEPS')\n",
    "df_one_one = generate_samples(one_one_to_be_incresed,df_one_one,'MEPS')\n",
    "\n",
    "df = df_zero_zero.append(df_one_zero)\n",
    "df = df.append(df_one_one)\n",
    "\n",
    "df['race'] = df['race'].astype(float)\n",
    "\n",
    "df_zero_one = dataset_orig_train[(dataset_orig_train['Probability'] == 0) & (dataset_orig_train[protected_attribute] == 1)]\n",
    "df = df.append(df_zero_one)"
   ]
  },
  {
   "cell_type": "markdown",
   "metadata": {},
   "source": [
    "# Fairness Metrics"
   ]
  },
  {
   "cell_type": "code",
   "execution_count": null,
   "metadata": {},
   "outputs": [],
   "source": [
    "from sklearn.linear_model import LogisticRegression\n",
    "from Measure import measure_final_score,calculate_recall,calculate_far,calculate_precision,calculate_accuracy\n",
    "\n",
    "X_train, y_train =  df.loc[:, df.columns != 'Probability'], df['Probability']\n",
    "X_test, y_test = dataset_orig_test.loc[:, dataset_orig_test.columns != 'Probability'], dataset_orig_test['Probability']\n",
    "        \n",
    "clf = LogisticRegression(C=1.0, penalty='l2', solver='liblinear', max_iter=100) # LSR\n",
    "clf.fit(X_train,y_train)\n",
    "\n",
    "print(\"aod :\"+protected_attribute,measure_final_score(dataset_orig_test, clf, X_train, y_train, X_test, y_test, protected_attribute, 'aod'))\n",
    "print(\"eod :\"+protected_attribute,measure_final_score(dataset_orig_test, clf, X_train, y_train, X_test, y_test, protected_attribute, 'eod'))\n",
    "print(\"SPD:\",measure_final_score(dataset_orig_test, clf, X_train, y_train, X_test, y_test, protected_attribute, 'SPD'))\n",
    "print(\"DI:\",measure_final_score(dataset_orig_test, clf, X_train, y_train, X_test, y_test, protected_attribute, 'DI'))"
   ]
  },
  {
   "cell_type": "markdown",
   "metadata": {},
   "source": [
    "# Causal Graph"
   ]
  },
  {
   "cell_type": "code",
   "execution_count": null,
   "metadata": {},
   "outputs": [],
   "source": [
    "causal_graph = \"\"\"\n",
    "digraph {\n",
    "SEX;\n",
    "AGE;\n",
    "race;\n",
    "MARRY;\n",
    "REGION;\n",
    "Probability;\n",
    "U[label=\"Unobserved Confounders\"];\n",
    "SEX -> Probability;\n",
    "race -> REGION; REGION -> Probability;\n",
    "race -> Probability;\n",
    "AGE -> Probability;\n",
    "SEX -> MARRY; MARRY -> Probability;\n",
    "U->SEX;U->race;U->Probability;\n",
    "}\n",
    "\"\"\"\n",
    "\n",
    "## dowhy works for binary inputs only\n",
    "\n",
    "\n",
    "df['Probability'] = np.where(df['Probability'] == 0, False, True)\n",
    "df[protected_attribute] = np.where(df[protected_attribute] == 1, True, False)"
   ]
  },
  {
   "cell_type": "code",
   "execution_count": null,
   "metadata": {},
   "outputs": [],
   "source": [
    "# With graph\n",
    "model=CausalModel(\n",
    "        data = df,\n",
    "        treatment=\"race\",\n",
    "        outcome=\"Probability\",\n",
    "        graph=causal_graph.replace(\"\\n\", \" \")\n",
    "        )\n",
    "model.view_model()"
   ]
  },
  {
   "cell_type": "code",
   "execution_count": null,
   "metadata": {},
   "outputs": [],
   "source": [
    "identified_estimand = model.identify_effect(proceed_when_unidentifiable=True)\n",
    "print(identified_estimand)"
   ]
  },
  {
   "cell_type": "code",
   "execution_count": null,
   "metadata": {},
   "outputs": [],
   "source": [
    "causal_estimate = model.estimate_effect(identified_estimand,\n",
    "        method_name=\"backdoor.propensity_score_stratification\")\n",
    "print(causal_estimate)\n",
    "print(\"Causal Estimate is \" + str(causal_estimate.value))"
   ]
  },
  {
   "cell_type": "code",
   "execution_count": null,
   "metadata": {},
   "outputs": [],
   "source": [
    "# Causal effect on the control group (ATC)\n",
    "causal_estimate_att = model.estimate_effect(identified_estimand,\n",
    "        method_name=\"backdoor.propensity_score_stratification\",\n",
    "        target_units = \"atc\")\n",
    "print(causal_estimate_att)\n",
    "print(\"Causal Estimate is \" + str(causal_estimate_att.value))"
   ]
  },
  {
   "cell_type": "markdown",
   "metadata": {},
   "source": [
    "# Add Random Common Cause"
   ]
  },
  {
   "cell_type": "code",
   "execution_count": null,
   "metadata": {},
   "outputs": [],
   "source": [
    "refutel = model.refute_estimate(identified_estimand,causal_estimate, \"random_common_cause\")\n",
    "print(refutel)"
   ]
  },
  {
   "cell_type": "markdown",
   "metadata": {},
   "source": [
    "# Replace Treatment with Placebo"
   ]
  },
  {
   "cell_type": "code",
   "execution_count": null,
   "metadata": {},
   "outputs": [],
   "source": [
    "refutel = model.refute_estimate(identified_estimand,causal_estimate,method_name=\"placebo_treatment_refuter\",placebo_type=\"permute\")\n",
    "print(refutel)"
   ]
  },
  {
   "cell_type": "markdown",
   "metadata": {},
   "source": [
    "# Remove Random Subset of Data"
   ]
  },
  {
   "cell_type": "code",
   "execution_count": null,
   "metadata": {},
   "outputs": [],
   "source": [
    "refutel = model.refute_estimate(identified_estimand,causal_estimate, \"data_subset_refuter\")\n",
    "print(refutel)"
   ]
  }
 ],
 "metadata": {
  "kernelspec": {
   "display_name": "Python 3",
   "language": "python",
   "name": "python3"
  },
  "language_info": {
   "codemirror_mode": {
    "name": "ipython",
    "version": 3
   },
   "file_extension": ".py",
   "mimetype": "text/x-python",
   "name": "python",
   "nbconvert_exporter": "python",
   "pygments_lexer": "ipython3",
   "version": "3.7.3"
  }
 },
 "nbformat": 4,
 "nbformat_minor": 2
}
