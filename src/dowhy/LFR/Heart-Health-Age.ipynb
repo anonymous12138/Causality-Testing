{
 "cells": [
  {
   "cell_type": "code",
   "execution_count": 1,
   "metadata": {},
   "outputs": [],
   "source": [
    "# Example - https://github.com/cornelliusyudhawijaya/Churn_Causality_Analysis/blob/main/Causal%20Analysis%20Do%20Why.ipynb\n",
    "    \n",
    "import numpy as np\n",
    "import pandas as pd\n",
    "\n",
    "from dowhy import CausalModel\n",
    "import dowhy.datasets \n",
    "\n",
    "# Avoid printing dataconversion warnings from sklearn and numpy\n",
    "import warnings\n",
    "from sklearn.exceptions import DataConversionWarning\n",
    "warnings.filterwarnings('ignore')"
   ]
  },
  {
   "cell_type": "markdown",
   "metadata": {},
   "source": [
    "# Prepare data"
   ]
  },
  {
   "cell_type": "code",
   "execution_count": 2,
   "metadata": {},
   "outputs": [
    {
     "data": {
      "text/html": [
       "<div>\n",
       "<style scoped>\n",
       "    .dataframe tbody tr th:only-of-type {\n",
       "        vertical-align: middle;\n",
       "    }\n",
       "\n",
       "    .dataframe tbody tr th {\n",
       "        vertical-align: top;\n",
       "    }\n",
       "\n",
       "    .dataframe thead th {\n",
       "        text-align: right;\n",
       "    }\n",
       "</style>\n",
       "<table border=\"1\" class=\"dataframe\">\n",
       "  <thead>\n",
       "    <tr style=\"text-align: right;\">\n",
       "      <th></th>\n",
       "      <th>age</th>\n",
       "      <th>sex</th>\n",
       "      <th>cp</th>\n",
       "      <th>trestbps</th>\n",
       "      <th>chol</th>\n",
       "      <th>fbs</th>\n",
       "      <th>restecg</th>\n",
       "      <th>thalach</th>\n",
       "      <th>exang</th>\n",
       "      <th>oldpeak</th>\n",
       "      <th>slope</th>\n",
       "      <th>ca</th>\n",
       "      <th>thal</th>\n",
       "      <th>Probability</th>\n",
       "    </tr>\n",
       "  </thead>\n",
       "  <tbody>\n",
       "    <tr>\n",
       "      <th>0</th>\n",
       "      <td>1.0</td>\n",
       "      <td>1.0</td>\n",
       "      <td>0.000000</td>\n",
       "      <td>0.481132</td>\n",
       "      <td>0.244292</td>\n",
       "      <td>1.0</td>\n",
       "      <td>1.0</td>\n",
       "      <td>0.603053</td>\n",
       "      <td>0.0</td>\n",
       "      <td>0.370968</td>\n",
       "      <td>1.0</td>\n",
       "      <td>0.000000</td>\n",
       "      <td>0.75</td>\n",
       "      <td>0.0</td>\n",
       "    </tr>\n",
       "    <tr>\n",
       "      <th>1</th>\n",
       "      <td>1.0</td>\n",
       "      <td>1.0</td>\n",
       "      <td>1.000000</td>\n",
       "      <td>0.622642</td>\n",
       "      <td>0.365297</td>\n",
       "      <td>0.0</td>\n",
       "      <td>1.0</td>\n",
       "      <td>0.282443</td>\n",
       "      <td>1.0</td>\n",
       "      <td>0.241935</td>\n",
       "      <td>0.5</td>\n",
       "      <td>1.000000</td>\n",
       "      <td>0.00</td>\n",
       "      <td>1.0</td>\n",
       "    </tr>\n",
       "    <tr>\n",
       "      <th>2</th>\n",
       "      <td>1.0</td>\n",
       "      <td>1.0</td>\n",
       "      <td>1.000000</td>\n",
       "      <td>0.245283</td>\n",
       "      <td>0.235160</td>\n",
       "      <td>0.0</td>\n",
       "      <td>1.0</td>\n",
       "      <td>0.442748</td>\n",
       "      <td>1.0</td>\n",
       "      <td>0.419355</td>\n",
       "      <td>0.5</td>\n",
       "      <td>0.666667</td>\n",
       "      <td>1.00</td>\n",
       "      <td>1.0</td>\n",
       "    </tr>\n",
       "    <tr>\n",
       "      <th>3</th>\n",
       "      <td>0.0</td>\n",
       "      <td>1.0</td>\n",
       "      <td>0.666667</td>\n",
       "      <td>0.339623</td>\n",
       "      <td>0.283105</td>\n",
       "      <td>0.0</td>\n",
       "      <td>0.0</td>\n",
       "      <td>0.885496</td>\n",
       "      <td>0.0</td>\n",
       "      <td>0.564516</td>\n",
       "      <td>1.0</td>\n",
       "      <td>0.000000</td>\n",
       "      <td>0.00</td>\n",
       "      <td>0.0</td>\n",
       "    </tr>\n",
       "    <tr>\n",
       "      <th>4</th>\n",
       "      <td>0.0</td>\n",
       "      <td>0.0</td>\n",
       "      <td>0.333333</td>\n",
       "      <td>0.339623</td>\n",
       "      <td>0.178082</td>\n",
       "      <td>0.0</td>\n",
       "      <td>1.0</td>\n",
       "      <td>0.770992</td>\n",
       "      <td>0.0</td>\n",
       "      <td>0.225806</td>\n",
       "      <td>0.0</td>\n",
       "      <td>0.000000</td>\n",
       "      <td>0.00</td>\n",
       "      <td>0.0</td>\n",
       "    </tr>\n",
       "  </tbody>\n",
       "</table>\n",
       "</div>"
      ],
      "text/plain": [
       "   age  sex        cp  trestbps      chol  fbs  restecg   thalach  exang  \\\n",
       "0  1.0  1.0  0.000000  0.481132  0.244292  1.0      1.0  0.603053    0.0   \n",
       "1  1.0  1.0  1.000000  0.622642  0.365297  0.0      1.0  0.282443    1.0   \n",
       "2  1.0  1.0  1.000000  0.245283  0.235160  0.0      1.0  0.442748    1.0   \n",
       "3  0.0  1.0  0.666667  0.339623  0.283105  0.0      0.0  0.885496    0.0   \n",
       "4  0.0  0.0  0.333333  0.339623  0.178082  0.0      1.0  0.770992    0.0   \n",
       "\n",
       "    oldpeak  slope        ca  thal  Probability  \n",
       "0  0.370968    1.0  0.000000  0.75          0.0  \n",
       "1  0.241935    0.5  1.000000  0.00          1.0  \n",
       "2  0.419355    0.5  0.666667  1.00          1.0  \n",
       "3  0.564516    1.0  0.000000  0.00          0.0  \n",
       "4  0.225806    0.0  0.000000  0.00          0.0  "
      ]
     },
     "execution_count": 2,
     "metadata": {},
     "output_type": "execute_result"
    }
   ],
   "source": [
    "data = pd.read_csv('../../../data/processed.cleveland.data.csv')\n",
    "\n",
    "## Drop categorical features\n",
    "## Drop NULL values\n",
    "data = data.dropna()\n",
    "\n",
    "\n",
    "## calculate mean of age column\n",
    "mean = data.loc[:,\"age\"].mean()\n",
    "data['age'] = np.where(data['age'] >= mean, 0, 1)\n",
    "\n",
    "## Make goal column binary\n",
    "data['Probability'] = np.where(data['Probability'] > 0, 1, 0)\n",
    "\n",
    "protected_attribute = 'age'\n",
    "\n",
    "from sklearn.preprocessing import MinMaxScaler\n",
    "\n",
    "scaler = MinMaxScaler()\n",
    "dataset_orig = pd.DataFrame(scaler.fit_transform(data),columns = data.columns)\n",
    "\n",
    "(dataset_orig.head(5))"
   ]
  },
  {
   "cell_type": "code",
   "execution_count": 3,
   "metadata": {},
   "outputs": [],
   "source": [
    "# This dataset size is very small. So repeating it to make it bigger\n",
    "\n",
    "dataset_orig = pd.concat([dataset_orig]*5, ignore_index=True)"
   ]
  },
  {
   "cell_type": "markdown",
   "metadata": {},
   "source": [
    "# Transform data using LFR¶"
   ]
  },
  {
   "cell_type": "code",
   "execution_count": 4,
   "metadata": {},
   "outputs": [
    {
     "name": "stdout",
     "output_type": "stream",
     "text": [
      "step: 0, loss: 1.8848310614857846, L_x: 0.3303633282349973,  L_y: 0.6996243366365,  L_z: 0.02363806183133869\n",
      "step: 250, loss: 0.8585601670875052, L_x: 0.33421740294804203,  L_y: 0.7073056084849679,  L_z: 0.0029582476914611355\n",
      "step: 500, loss: 0.8583246733357598, L_x: 0.3342124962815037,  L_y: 0.7072881486826257,  L_z: 0.002953887993806381\n",
      "step: 750, loss: 0.7843663277365097, L_x: 0.33479003386308576,  L_y: 0.7068862974898467,  L_z: 0.001482642598160644\n",
      "step: 1000, loss: 0.7792478952858661, L_x: 0.3344658920388142,  L_y: 0.7074160859401215,  L_z: 0.0013697430085071293\n",
      "step: 1250, loss: 0.7178083317925572, L_x: 0.33462749647160367,  L_y: 0.7069854019414311,  L_z: 0.00014953309772819945\n",
      "step: 1500, loss: 0.7117795684109124, L_x: 0.3346362159735077,  L_y: 0.7070171638285911,  L_z: 2.832084845172389e-05\n",
      "step: 1750, loss: 0.7119227933499257, L_x: 0.3346348139886237,  L_y: 0.7070168591676905,  L_z: 3.119172084697919e-05\n",
      "step: 2000, loss: 0.711056893018624, L_x: 0.3346316831343339,  L_y: 0.7070171051313442,  L_z: 1.3869421118728465e-05\n",
      "step: 2250, loss: 0.7110018624282637, L_x: 0.33463212068546505,  L_y: 0.7070146981692736,  L_z: 1.2816861042708183e-05\n",
      "step: 2500, loss: 0.7103822096495311, L_x: 0.33463352256898005,  L_y: 0.7070136993240871,  L_z: 4.4350199508436105e-07\n",
      "step: 2750, loss: 0.7103797823040937, L_x: 0.33463320226782756,  L_y: 0.7070135495085941,  L_z: 3.980154564264815e-07\n",
      "step: 3000, loss: 0.7103745000927387, L_x: 0.3346332425728701,  L_y: 0.7070135430272869,  L_z: 2.9249279446252887e-07\n",
      "step: 3250, loss: 0.710374826376575, L_x: 0.3346331970041947,  L_y: 0.7070134346704382,  L_z: 3.011947218967137e-07\n",
      "step: 3500, loss: 0.7103767497532212, L_x: 0.33463305483511174,  L_y: 0.7070134270638084,  L_z: 3.398428212342264e-07\n",
      "step: 3750, loss: 0.710385858912509, L_x: 0.33463323278297874,  L_y: 0.7070134143856673,  L_z: 5.222439802388124e-07\n",
      "step: 4000, loss: 0.7103765464013765, L_x: 0.33463331983814193,  L_y: 0.7070134374777683,  L_z: 3.355145045347285e-07\n",
      "step: 4250, loss: 0.7103766017033388, L_x: 0.33463325460302823,  L_y: 0.7070134244978921,  L_z: 3.3689318832963443e-07\n",
      "step: 4500, loss: 0.7275271428951366, L_x: 0.3345379706509509,  L_y: 0.7071793000158912,  L_z: 0.00034004926345471696\n",
      "step: 4750, loss: 0.7104424831191809, L_x: 0.3346325454204633,  L_y: 0.7070143885548291,  L_z: 1.6353822029413489e-06\n",
      "step: 5000, loss: 0.7103699799334834, L_x: 0.33463319668601543,  L_y: 0.7070136480185736,  L_z: 1.9999896099243132e-07\n",
      "step: 5250, loss: 0.7103716688461683, L_x: 0.33463323052131544,  L_y: 0.7070136228766144,  L_z: 2.3427328681435712e-07\n",
      "step: 5500, loss: 0.7103725290451639, L_x: 0.3346330200709643,  L_y: 0.7070135589891061,  L_z: 2.5279710696435307e-07\n",
      "step: 5750, loss: 0.710372492398274, L_x: 0.33463318658282426,  L_y: 0.7070136088879881,  L_z: 2.5103288915362397e-07\n",
      "step: 6000, loss: 0.7103706249286816, L_x: 0.3346333087992547,  L_y: 0.707013589426777,  L_z: 2.14048278240897e-07\n",
      "step: 6250, loss: 1.399718806008535, L_x: 0.33552457871407365,  L_y: 0.6987952352020409,  L_z: 0.013951366500387068\n",
      "step: 6500, loss: 0.7147460365846058, L_x: 0.33460906379287525,  L_y: 0.7069592185231667,  L_z: 8.881454847020631e-05\n",
      "step: 6750, loss: 0.7103700679287566, L_x: 0.33463303898263996,  L_y: 0.7070138451699562,  L_z: 1.9784737947947661e-07\n",
      "aod :age 0.11\n",
      "eod :age 0.17\n",
      "SPD: 0.07\n",
      "DI: -0.2\n"
     ]
    }
   ],
   "source": [
    "from aif360.algorithms.preprocessing.lfr import LFR\n",
    "from aif360.datasets import BinaryLabelDataset\n",
    "from IPython.display import Markdown, display\n",
    "from sklearn.linear_model import LogisticRegression\n",
    "from sklearn.tree import DecisionTreeRegressor\n",
    "from sklearn.model_selection import train_test_split\n",
    "\n",
    "protected_attribute = \"age\"\n",
    "dataset_orig_train, dataset_orig_test = train_test_split(dataset_orig, test_size=0.2, shuffle = True)\n",
    "privileged_groups = [{protected_attribute: 1}]\n",
    "unprivileged_groups = [{protected_attribute: 0}]\n",
    "\n",
    "TR = LFR(unprivileged_groups=unprivileged_groups,\n",
    "         privileged_groups=privileged_groups,\n",
    "#          k=10, Ax=0.1, Ay=1.0, Az=2.0,\n",
    "         verbose=1)\n",
    "\n",
    "dataset_orig_train = BinaryLabelDataset(df=dataset_orig_train, label_names=['Probability'], protected_attribute_names=[protected_attribute])\n",
    "\n",
    "TR.fit(dataset_orig_train, maxiter=5000, maxfun=5000)\n",
    "\n",
    "dataset_transf = TR.transform(dataset_orig_train)\n",
    "dataset_orig_train, yy = dataset_transf.convert_to_dataframe()\n",
    "\n",
    "from sklearn.linear_model import LogisticRegression\n",
    "from Measure import measure_final_score,calculate_recall,calculate_far,calculate_precision,calculate_accuracy\n",
    "\n",
    "X_train, y_train =  dataset_orig_train.loc[:, dataset_orig_train.columns != 'Probability'], dataset_orig_train['Probability']\n",
    "X_test, y_test = dataset_orig_test.loc[:, dataset_orig_test.columns != 'Probability'], dataset_orig_test['Probability']\n",
    "        \n",
    "clf = LogisticRegression(C=1.0, penalty='l2', solver='liblinear', max_iter=100) # LSR\n",
    "clf.fit(X_train,y_train)\n",
    "\n",
    "print(\"aod :\"+protected_attribute,measure_final_score(dataset_orig_test, clf, X_train, y_train, X_test, y_test, protected_attribute, 'aod'))\n",
    "print(\"eod :\"+protected_attribute,measure_final_score(dataset_orig_test, clf, X_train, y_train, X_test, y_test, protected_attribute, 'eod'))\n",
    "print(\"SPD:\",measure_final_score(dataset_orig_test, clf, X_train, y_train, X_test, y_test, protected_attribute, 'SPD'))\n",
    "print(\"DI:\",measure_final_score(dataset_orig_test, clf, X_train, y_train, X_test, y_test, protected_attribute, 'DI'))"
   ]
  },
  {
   "cell_type": "markdown",
   "metadata": {},
   "source": [
    "# Graph"
   ]
  },
  {
   "cell_type": "code",
   "execution_count": 179,
   "metadata": {},
   "outputs": [],
   "source": [
    "causal_graph = \"\"\"\n",
    "digraph {\n",
    "age;\n",
    "fbs;\n",
    "exang;\n",
    "oldpeak;\n",
    "Probability;\n",
    "U[label=\"Unobserved Confounders\"];\n",
    "age -> exang; exang -> Probability;\n",
    "age -> oldpeak; oldpeak -> Probability\n",
    "oldpeak -> exang;\n",
    "fbs -> Probability;\n",
    "age -> Probability;\n",
    "U->age;U->Probability;\n",
    "}\n",
    "\"\"\"\n",
    "\n",
    "## dowhy works for binary inputs only\n",
    "# dataset_orig_train = pd.concat([dataset_orig_train]*5, ignore_index=True)\n",
    "dataset_orig_train['Probability'] = np.where(dataset_orig_train['Probability'] == 0, False, True)\n",
    "dataset_orig_train[protected_attribute] = np.where(dataset_orig_train[protected_attribute] == 1, True, False)"
   ]
  },
  {
   "cell_type": "code",
   "execution_count": 180,
   "metadata": {},
   "outputs": [
    {
     "data": {
      "image/png": "[encoded data removed]",
      "text/plain": [
       "<Figure size 432x288 with 1 Axes>"
      ]
     },
     "metadata": {},
     "output_type": "display_data"
    }
   ],
   "source": [
    "# With graph\n",
    "model=CausalModel(\n",
    "        data = dataset_orig_train,\n",
    "        treatment=protected_attribute,\n",
    "        outcome=\"Probability\",\n",
    "        graph=causal_graph.replace(\"\\n\", \" \")\n",
    "        )\n",
    "model.view_model()"
   ]
  },
  {
   "cell_type": "code",
   "execution_count": 181,
   "metadata": {},
   "outputs": [
    {
     "name": "stdout",
     "output_type": "stream",
     "text": [
      "Estimand type: nonparametric-ate\n",
      "\n",
      "### Estimand : 1\n",
      "Estimand name: backdoor\n",
      "Estimand expression:\n",
      "  d                                 \n",
      "──────(Expectation(Probability|fbs))\n",
      "d[age]                              \n",
      "Estimand assumption 1, Unconfoundedness: If U→{age} and U→Probability then P(Probability|age,fbs,U) = P(Probability|age,fbs)\n",
      "\n",
      "### Estimand : 2\n",
      "Estimand name: iv\n",
      "No such variable found!\n",
      "\n",
      "### Estimand : 3\n",
      "Estimand name: frontdoor\n",
      "No such variable found!\n",
      "\n"
     ]
    }
   ],
   "source": [
    "identified_estimand = model.identify_effect(proceed_when_unidentifiable=True)\n",
    "print(identified_estimand)"
   ]
  },
  {
   "cell_type": "code",
   "execution_count": 182,
   "metadata": {},
   "outputs": [
    {
     "name": "stdout",
     "output_type": "stream",
     "text": [
      "*** Causal Estimate ***\n",
      "\n",
      "## Identified estimand\n",
      "Estimand type: nonparametric-ate\n",
      "\n",
      "### Estimand : 1\n",
      "Estimand name: backdoor\n",
      "Estimand expression:\n",
      "  d                                 \n",
      "──────(Expectation(Probability|fbs))\n",
      "d[age]                              \n",
      "Estimand assumption 1, Unconfoundedness: If U→{age} and U→Probability then P(Probability|age,fbs,U) = P(Probability|age,fbs)\n",
      "\n",
      "## Realized estimand\n",
      "b: Probability~age+fbs\n",
      "Target units: ate\n",
      "\n",
      "## Estimate\n",
      "Mean value: -0.18970385674931128\n",
      "\n",
      "Causal Estimate is -0.18970385674931128\n"
     ]
    }
   ],
   "source": [
    "causal_estimate = model.estimate_effect(identified_estimand,\n",
    "        method_name=\"backdoor.propensity_score_stratification\")\n",
    "print(causal_estimate)\n",
    "print(\"Causal Estimate is \" + str(causal_estimate.value))"
   ]
  },
  {
   "cell_type": "code",
   "execution_count": 15,
   "metadata": {},
   "outputs": [
    {
     "name": "stdout",
     "output_type": "stream",
     "text": [
      "*** Causal Estimate ***\n",
      "\n",
      "## Identified estimand\n",
      "Estimand type: nonparametric-ate\n",
      "\n",
      "### Estimand : 1\n",
      "Estimand name: backdoor\n",
      "Estimand expression:\n",
      "  d                                              \n",
      "──────(Expectation(Probability|thalach,thal,sex))\n",
      "d[age]                                           \n",
      "Estimand assumption 1, Unconfoundedness: If U→{age} and U→Probability then P(Probability|age,thalach,thal,sex,U) = P(Probability|age,thalach,thal,sex)\n",
      "\n",
      "## Realized estimand\n",
      "b: Probability~age+thalach+thal+sex\n",
      "Target units: atc\n",
      "\n",
      "## Estimate\n",
      "Mean value: 0.0\n",
      "\n",
      "Causal Estimate is 0.0\n"
     ]
    }
   ],
   "source": [
    "# Causal effect on the control group (ATC)\n",
    "causal_estimate_att = model.estimate_effect(identified_estimand,\n",
    "        method_name=\"backdoor.propensity_score_stratification\",\n",
    "        target_units = \"atc\")\n",
    "print(causal_estimate_att)\n",
    "print(\"Causal Estimate is \" + str(causal_estimate_att.value))"
   ]
  },
  {
   "cell_type": "markdown",
   "metadata": {},
   "source": [
    "# Add Random Common Cause"
   ]
  },
  {
   "cell_type": "code",
   "execution_count": 63,
   "metadata": {},
   "outputs": [
    {
     "name": "stdout",
     "output_type": "stream",
     "text": [
      "Refute: Add a Random Common Cause\n",
      "Estimated effect:0.0\n",
      "New effect:0.004444318249422658\n",
      "\n"
     ]
    }
   ],
   "source": [
    "refutel = model.refute_estimate(identified_estimand,causal_estimate, \"random_common_cause\")\n",
    "print(refutel)"
   ]
  },
  {
   "cell_type": "markdown",
   "metadata": {},
   "source": [
    "# Replace Treatment with Placebo"
   ]
  },
  {
   "cell_type": "code",
   "execution_count": 17,
   "metadata": {},
   "outputs": [
    {
     "name": "stdout",
     "output_type": "stream",
     "text": [
      "Refute: Use a Placebo Treatment\n",
      "Estimated effect:0.0\n",
      "New effect:-0.0003812604747241289\n",
      "p value:0.58\n",
      "\n"
     ]
    }
   ],
   "source": [
    "refutel = model.refute_estimate(identified_estimand,causal_estimate,method_name=\"placebo_treatment_refuter\",placebo_type=\"permute\")\n",
    "print(refutel)"
   ]
  },
  {
   "cell_type": "markdown",
   "metadata": {},
   "source": [
    "# Remove Random Subset of Data"
   ]
  },
  {
   "cell_type": "code",
   "execution_count": 18,
   "metadata": {},
   "outputs": [
    {
     "name": "stdout",
     "output_type": "stream",
     "text": [
      "Refute: Use a subset of data\n",
      "Estimated effect:0.0\n",
      "New effect:0.020521016664865162\n",
      "p value:0.53\n",
      "\n"
     ]
    }
   ],
   "source": [
    "refutel = model.refute_estimate(identified_estimand,causal_estimate, \"data_subset_refuter\")\n",
    "print(refutel)"
   ]
  },
  {
   "cell_type": "code",
   "execution_count": null,
   "metadata": {},
   "outputs": [],
   "source": []
  }
 ],
 "metadata": {
  "kernelspec": {
   "display_name": "Python 3",
   "language": "python",
   "name": "python3"
  },
  "language_info": {
   "codemirror_mode": {
    "name": "ipython",
    "version": 3
   },
   "file_extension": ".py",
   "mimetype": "text/x-python",
   "name": "python",
   "nbconvert_exporter": "python",
   "pygments_lexer": "ipython3",
   "version": "3.7.3"
  }
 },
 "nbformat": 4,
 "nbformat_minor": 2
}
