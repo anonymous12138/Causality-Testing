{
 "cells": [
  {
   "cell_type": "code",
   "execution_count": 1,
   "metadata": {},
   "outputs": [],
   "source": [
    "# Example - https://github.com/cornelliusyudhawijaya/Churn_Causality_Analysis/blob/main/Causal%20Analysis%20Do%20Why.ipynb\n",
    "    \n",
    "import numpy as np\n",
    "import pandas as pd\n",
    "\n",
    "from dowhy import CausalModel\n",
    "import dowhy.datasets \n",
    "\n",
    "# Avoid printing dataconversion warnings from sklearn and numpy\n",
    "import warnings\n",
    "from sklearn.exceptions import DataConversionWarning\n",
    "warnings.filterwarnings('ignore')"
   ]
  },
  {
   "cell_type": "markdown",
   "metadata": {},
   "source": [
    "# Prepare Data"
   ]
  },
  {
   "cell_type": "code",
   "execution_count": 2,
   "metadata": {},
   "outputs": [
    {
     "name": "stdout",
     "output_type": "stream",
     "text": [
      "   Pclass  sex       Age  SibSp  Parch      Fare  Probability\n",
      "0     1.0  0.0  0.271174    0.2    0.0  0.014151          0.0\n",
      "1     0.0  1.0  0.472229    0.2    0.0  0.139136          1.0\n",
      "2     1.0  1.0  0.321438    0.0    0.0  0.015469          1.0\n",
      "3     0.0  1.0  0.434531    0.2    0.0  0.103644          1.0\n",
      "4     1.0  0.0  0.434531    0.0    0.0  0.015713          0.0\n"
     ]
    }
   ],
   "source": [
    "data = pd.read_csv('../../../data/Titanic.csv')\n",
    "\n",
    "## Drop categorical features\n",
    "data = data.drop(['Name','Ticket','Cabin','PassengerId','Embarked'],axis=1)\n",
    "\n",
    "## Drop NULL values\n",
    "data = data.dropna()\n",
    "\n",
    "## Drop NULL values\n",
    "data = data.fillna(0)\n",
    "\n",
    "## Change symbolics to numerics\n",
    "data['sex'] = np.where(data['sex'] == 'male', 0, 1)\n",
    "\n",
    "protected_attribute = 'sex'\n",
    "\n",
    "from sklearn.preprocessing import MinMaxScaler\n",
    "\n",
    "scaler = MinMaxScaler()\n",
    "data = pd.DataFrame(scaler.fit_transform(data),columns = data.columns)\n",
    "print(data.head(5))"
   ]
  },
  {
   "cell_type": "code",
   "execution_count": 3,
   "metadata": {},
   "outputs": [],
   "source": [
    "# This dataset size is very small. So repeating it to make it bigger\n",
    "\n",
    "dataset_orig = pd.concat([data]*5, ignore_index=True)"
   ]
  },
  {
   "cell_type": "markdown",
   "metadata": {},
   "source": [
    "# Transform data using LFR"
   ]
  },
  {
   "cell_type": "code",
   "execution_count": 4,
   "metadata": {},
   "outputs": [
    {
     "name": "stdout",
     "output_type": "stream",
     "text": [
      "step: 0, loss: 0.771980287458706, L_x: 0.3383994960341745,  L_y: 0.6974961554722436,  L_z: 0.020322091191522444\n",
      "step: 250, loss: 0.7075232910031594, L_x: 0.322016134560712,  L_y: 0.6422523591588661,  L_z: 0.016534659194111033\n",
      "step: 500, loss: 0.6709420098712667, L_x: 0.11196411684992899,  L_y: 0.6030531086450261,  L_z: 0.028346244770623873\n",
      "step: 750, loss: 0.6412928645038942, L_x: 0.09805155950660943,  L_y: 0.5494593918561853,  L_z: 0.041014158348524\n",
      "step: 1000, loss: 0.631099096876308, L_x: 0.0995266438946525,  L_y: 0.5555495597186838,  L_z: 0.03279843638407948\n",
      "step: 1250, loss: 0.6296020384287991, L_x: 0.094164501352824,  L_y: 0.5521706297998473,  L_z: 0.03400747924683474\n",
      "step: 1500, loss: 0.6273758641557947, L_x: 0.09604435194730168,  L_y: 0.5581317463948379,  L_z: 0.029819841283113324\n",
      "step: 1750, loss: 0.6258060853396442, L_x: 0.09413739336771308,  L_y: 0.5571932036071511,  L_z: 0.029599571197860875\n",
      "step: 2000, loss: 0.6259558695327674, L_x: 0.09401673533844786,  L_y: 0.5572283878241612,  L_z: 0.029662904087380725\n",
      "step: 2250, loss: 0.6257371268075613, L_x: 0.09408683287420601,  L_y: 0.5572055287214281,  L_z: 0.029561457399356273\n",
      "step: 2500, loss: 0.6253209443116277, L_x: 0.08740851344031941,  L_y: 0.5513047172230316,  L_z: 0.03263768787228205\n",
      "step: 2750, loss: 0.6241021431755982, L_x: 0.08889005446738704,  L_y: 0.5519954909399122,  L_z: 0.03160882339447369\n",
      "step: 3000, loss: 0.6232322299006436, L_x: 0.08747393421024184,  L_y: 0.5510777607210495,  L_z: 0.03170353787928496\n",
      "step: 3250, loss: 0.6253681590691493, L_x: 0.08674341501152247,  L_y: 0.5527327877677327,  L_z: 0.031980514900132234\n",
      "step: 3500, loss: 0.6230736098378634, L_x: 0.0872341976474715,  L_y: 0.5513073799756699,  L_z: 0.031521405048723174\n",
      "step: 3750, loss: 0.6225754315999434, L_x: 0.08974951696646333,  L_y: 0.5518047401383374,  L_z: 0.030897869882479882\n",
      "step: 4000, loss: 0.6215844609153565, L_x: 0.08419160495386682,  L_y: 0.5535657891354824,  L_z: 0.029799755642243686\n",
      "step: 4250, loss: 0.62093458412118, L_x: 0.07852058493980837,  L_y: 0.5534462133105723,  L_z: 0.029818156158313392\n",
      "step: 4500, loss: 0.620635500715767, L_x: 0.07370356573383922,  L_y: 0.5529657915945368,  L_z: 0.030149676273923114\n",
      "step: 4750, loss: 0.6204373008470137, L_x: 0.07054870740156385,  L_y: 0.5524362098728609,  L_z: 0.03047311011699816\n",
      "step: 5000, loss: 0.6202233307046325, L_x: 0.0675250342568022,  L_y: 0.5508989479852464,  L_z: 0.031285939646852924\n",
      "aod :sex -0.09\n",
      "eod :sex -0.19\n",
      "SPD: 0.13\n",
      "DI: 0.31\n"
     ]
    }
   ],
   "source": [
    "from aif360.algorithms.preprocessing.lfr import LFR\n",
    "from aif360.datasets import BinaryLabelDataset\n",
    "from IPython.display import Markdown, display\n",
    "from sklearn.linear_model import LogisticRegression\n",
    "from sklearn.tree import DecisionTreeRegressor\n",
    "from sklearn.model_selection import train_test_split\n",
    "dataset_orig = data.copy()\n",
    "protected_attribute = \"sex\"\n",
    "dataset_orig_train, dataset_orig_test = train_test_split(dataset_orig, test_size=0.2,random_state=0)\n",
    "privileged_groups = [{protected_attribute: 1}]\n",
    "unprivileged_groups = [{protected_attribute: 0}]\n",
    "\n",
    "TR = LFR(unprivileged_groups=unprivileged_groups,\n",
    "         privileged_groups=privileged_groups,\n",
    "         k=10, Ax=0.1, Ay=1.0, Az=2.0,\n",
    "         verbose=1)\n",
    "\n",
    "dataset_orig_train = BinaryLabelDataset(df=dataset_orig_train, label_names=['Probability'], protected_attribute_names=[protected_attribute])\n",
    "\n",
    "TR.fit(dataset_orig_train, maxiter=5000, maxfun=5000)\n",
    "\n",
    "dataset_transf = TR.transform(dataset_orig_train)\n",
    "dataset_orig_train, yy = dataset_transf.convert_to_dataframe()\n",
    "\n",
    "from sklearn.linear_model import LogisticRegression\n",
    "from Measure import measure_final_score,calculate_recall,calculate_far,calculate_precision,calculate_accuracy\n",
    "\n",
    "X_train, y_train =  dataset_orig_train.loc[:, dataset_orig_train.columns != 'Probability'], dataset_orig_train['Probability']\n",
    "X_test, y_test = dataset_orig_test.loc[:, dataset_orig_test.columns != 'Probability'], dataset_orig_test['Probability']\n",
    "        \n",
    "clf = LogisticRegression(C=1.0, penalty='l2', solver='liblinear', max_iter=100) # LSR\n",
    "clf.fit(X_train,y_train)\n",
    "\n",
    "print(\"aod :\"+protected_attribute,measure_final_score(dataset_orig_test, clf, X_train, y_train, X_test, y_test, protected_attribute, 'aod'))\n",
    "print(\"eod :\"+protected_attribute,measure_final_score(dataset_orig_test, clf, X_train, y_train, X_test, y_test, protected_attribute, 'eod'))\n",
    "print(\"SPD:\",measure_final_score(dataset_orig_test, clf, X_train, y_train, X_test, y_test, protected_attribute, 'SPD'))\n",
    "print(\"DI:\",measure_final_score(dataset_orig_test, clf, X_train, y_train, X_test, y_test, protected_attribute, 'DI'))"
   ]
  },
  {
   "cell_type": "markdown",
   "metadata": {},
   "source": [
    "# Graph"
   ]
  },
  {
   "cell_type": "code",
   "execution_count": 31,
   "metadata": {},
   "outputs": [],
   "source": [
    "causal_graph = \"\"\"\n",
    "digraph {\n",
    "Age;\n",
    "sex;\n",
    "Fare;\n",
    "Probability;\n",
    "U[label=\"Unobserved Confounders\"];\n",
    "\n",
    "Age -> Probability;\n",
    "sex -> Probability;\n",
    "Age -> fare; sex -> Fare; Fare -> Probability;\n",
    "U->sex;U->Probability;\n",
    "}\n",
    "\"\"\"\n",
    "\n",
    "## dowhy works for binary inputs only\n",
    "dataset_orig_train['Probability'] = np.where(dataset_orig_train['Probability'] == 0, False, True)\n",
    "dataset_orig_train[protected_attribute] = np.where(dataset_orig_train[protected_attribute] == 1, True, False)"
   ]
  },
  {
   "cell_type": "code",
   "execution_count": 32,
   "metadata": {},
   "outputs": [
    {
     "data": {
      "image/png": "[encoded data removed]",
      "text/plain": [
       "<Figure size 432x288 with 1 Axes>"
      ]
     },
     "metadata": {},
     "output_type": "display_data"
    }
   ],
   "source": [
    "# With graph\n",
    "model=CausalModel(\n",
    "        data = dataset_orig_train,\n",
    "        treatment=protected_attribute,\n",
    "        outcome=\"Probability\",\n",
    "        graph=causal_graph.replace(\"\\n\", \" \")\n",
    "        )\n",
    "model.view_model()"
   ]
  },
  {
   "cell_type": "code",
   "execution_count": 33,
   "metadata": {},
   "outputs": [
    {
     "name": "stdout",
     "output_type": "stream",
     "text": [
      "Estimand type: nonparametric-ate\n",
      "\n",
      "### Estimand : 1\n",
      "Estimand name: backdoor\n",
      "Estimand expression:\n",
      "  d                                 \n",
      "──────(Expectation(Probability|Age))\n",
      "d[sex]                              \n",
      "Estimand assumption 1, Unconfoundedness: If U→{sex} and U→Probability then P(Probability|sex,Age,U) = P(Probability|sex,Age)\n",
      "\n",
      "### Estimand : 2\n",
      "Estimand name: iv\n",
      "No such variable found!\n",
      "\n",
      "### Estimand : 3\n",
      "Estimand name: frontdoor\n",
      "No such variable found!\n",
      "\n"
     ]
    }
   ],
   "source": [
    "identified_estimand = model.identify_effect(proceed_when_unidentifiable=True)\n",
    "print(identified_estimand)"
   ]
  },
  {
   "cell_type": "code",
   "execution_count": 34,
   "metadata": {},
   "outputs": [
    {
     "name": "stdout",
     "output_type": "stream",
     "text": [
      "*** Causal Estimate ***\n",
      "\n",
      "## Identified estimand\n",
      "Estimand type: nonparametric-ate\n",
      "\n",
      "### Estimand : 1\n",
      "Estimand name: backdoor\n",
      "Estimand expression:\n",
      "  d                                 \n",
      "──────(Expectation(Probability|Age))\n",
      "d[sex]                              \n",
      "Estimand assumption 1, Unconfoundedness: If U→{sex} and U→Probability then P(Probability|sex,Age,U) = P(Probability|sex,Age)\n",
      "\n",
      "## Realized estimand\n",
      "b: Probability~sex+Age\n",
      "Target units: ate\n",
      "\n",
      "## Estimate\n",
      "Mean value: 0.5634518535404335\n",
      "\n",
      "Causal Estimate is 0.5634518535404335\n"
     ]
    }
   ],
   "source": [
    "causal_estimate = model.estimate_effect(identified_estimand,\n",
    "        method_name=\"backdoor.propensity_score_stratification\")\n",
    "print(causal_estimate)\n",
    "print(\"Causal Estimate is \" + str(causal_estimate.value))"
   ]
  },
  {
   "cell_type": "code",
   "execution_count": null,
   "metadata": {},
   "outputs": [],
   "source": [
    "# Causal effect on the control group (ATC)\n",
    "causal_estimate_att = model.estimate_effect(identified_estimand,\n",
    "        method_name=\"backdoor.propensity_score_stratification\",\n",
    "        target_units = \"atc\")\n",
    "print(causal_estimate_att)\n",
    "print(\"Causal Estimate is \" + str(causal_estimate_att.value))"
   ]
  },
  {
   "cell_type": "markdown",
   "metadata": {},
   "source": [
    "# Add Random Common Cause"
   ]
  },
  {
   "cell_type": "code",
   "execution_count": 11,
   "metadata": {},
   "outputs": [
    {
     "name": "stdout",
     "output_type": "stream",
     "text": [
      "Refute: Add a Random Common Cause\n",
      "Estimated effect:0.22915209790209792\n",
      "New effect:0.208168816240213\n",
      "\n"
     ]
    }
   ],
   "source": [
    "refutel = model.refute_estimate(identified_estimand,causal_estimate, \"random_common_cause\")\n",
    "print(refutel)"
   ]
  },
  {
   "cell_type": "markdown",
   "metadata": {},
   "source": [
    "# Replace Treatment with Placebo"
   ]
  },
  {
   "cell_type": "code",
   "execution_count": 12,
   "metadata": {},
   "outputs": [
    {
     "name": "stdout",
     "output_type": "stream",
     "text": [
      "Refute: Use a Placebo Treatment\n",
      "Estimated effect:0.22915209790209792\n",
      "New effect:0.00037596917488207337\n",
      "p value:0.45\n",
      "\n"
     ]
    }
   ],
   "source": [
    "refutel = model.refute_estimate(identified_estimand,causal_estimate,method_name=\"placebo_treatment_refuter\",placebo_type=\"permute\")\n",
    "print(refutel)"
   ]
  },
  {
   "cell_type": "markdown",
   "metadata": {},
   "source": [
    "# Remove Random Subset of Data"
   ]
  },
  {
   "cell_type": "code",
   "execution_count": 13,
   "metadata": {},
   "outputs": [
    {
     "name": "stdout",
     "output_type": "stream",
     "text": [
      "Refute: Use a subset of data\n",
      "Estimated effect:0.22915209790209792\n",
      "New effect:0.22374185763198182\n",
      "p value:0.38\n",
      "\n"
     ]
    }
   ],
   "source": [
    "refutel = model.refute_estimate(identified_estimand,causal_estimate, \"data_subset_refuter\")\n",
    "print(refutel)"
   ]
  },
  {
   "cell_type": "code",
   "execution_count": null,
   "metadata": {},
   "outputs": [],
   "source": []
  }
 ],
 "metadata": {
  "kernelspec": {
   "display_name": "Python 3",
   "language": "python",
   "name": "python3"
  },
  "language_info": {
   "codemirror_mode": {
    "name": "ipython",
    "version": 3
   },
   "file_extension": ".py",
   "mimetype": "text/x-python",
   "name": "python",
   "nbconvert_exporter": "python",
   "pygments_lexer": "ipython3",
   "version": "3.7.3"
  }
 },
 "nbformat": 4,
 "nbformat_minor": 2
}
