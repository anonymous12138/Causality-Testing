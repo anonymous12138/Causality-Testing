{
 "cells": [
  {
   "cell_type": "code",
   "execution_count": 1,
   "metadata": {},
   "outputs": [],
   "source": [
    "import numpy as np\n",
    "import pandas as pd\n",
    "\n",
    "from dowhy import CausalModel\n",
    "import dowhy.datasets \n",
    "\n",
    "# Avoid printing dataconversion warnings from sklearn and numpy\n",
    "import warnings\n",
    "from sklearn.exceptions import DataConversionWarning\n",
    "warnings.filterwarnings('ignore')"
   ]
  },
  {
   "cell_type": "markdown",
   "metadata": {},
   "source": [
    "# Prepare Data"
   ]
  },
  {
   "cell_type": "code",
   "execution_count": 2,
   "metadata": {},
   "outputs": [
    {
     "name": "stdout",
     "output_type": "stream",
     "text": [
      "['workclass', 'marital_status', 'occupation', 'relationship', 'native_country']\n",
      "        age  workclass  education_num  marital_status  occupation  \\\n",
      "0  0.301370      0.875       0.800000        0.666667    0.071429   \n",
      "1  0.452055      0.750       0.800000        0.333333    0.285714   \n",
      "2  0.287671      0.500       0.533333        0.000000    0.428571   \n",
      "3  0.493151      0.500       0.400000        0.333333    0.428571   \n",
      "4  0.150685      0.500       0.800000        0.333333    0.714286   \n",
      "\n",
      "   relationship  race  sex  capital_gain  capital_loss  hours_per_week  \\\n",
      "0           0.2   1.0  1.0       0.02174           0.0        0.397959   \n",
      "1           0.0   1.0  1.0       0.00000           0.0        0.122449   \n",
      "2           0.2   1.0  1.0       0.00000           0.0        0.397959   \n",
      "3           0.0   0.0  1.0       0.00000           0.0        0.397959   \n",
      "4           1.0   0.0  0.0       0.00000           0.0        0.397959   \n",
      "\n",
      "   native_country  Probability  \n",
      "0        0.951220          0.0  \n",
      "1        0.951220          0.0  \n",
      "2        0.951220          0.0  \n",
      "3        0.951220          0.0  \n",
      "4        0.121951          0.0  \n"
     ]
    }
   ],
   "source": [
    "data = pd.read_csv('../../../data/adult.data.csv')\n",
    "\n",
    "## Drop categorical features\n",
    "data = data.drop(['fnlwgt','education'],axis=1)\n",
    "\n",
    "## Drop NULL values\n",
    "data = data.dropna()\n",
    "\n",
    "## for dowhy\n",
    "\n",
    "data['Probability'] = np.where(data['Probability'] == \" <=50K\", 0, 1)\n",
    "data['sex'] = np.where(data['sex'] == \" Male\", 1, 0)\n",
    "data['race'] = np.where(data['race'] == \" White\", 1, 0)\n",
    "\n",
    "non_numeric_columns = list(data.select_dtypes(exclude=[np.number]).columns)\n",
    "\n",
    "from sklearn.preprocessing import LabelEncoder\n",
    "\n",
    "le = LabelEncoder()\n",
    "\n",
    "for col in non_numeric_columns:\n",
    "    data[col] = le.fit_transform(data[col])\n",
    "\n",
    "print(non_numeric_columns)\n",
    "\n",
    "from sklearn.preprocessing import MinMaxScaler,StandardScaler\n",
    "\n",
    "scaler = MinMaxScaler()\n",
    "data = pd.DataFrame(scaler.fit_transform(data),columns = data.columns)\n",
    "(data.head(5))"
   ]
  },
  {
   "cell_type": "markdown",
   "metadata": {},
   "source": [
    "# Transforming data by LFR"
   ]
  },
  {
   "cell_type": "code",
   "execution_count": 3,
   "metadata": {},
   "outputs": [],
   "source": [
    "from aif360.algorithms.preprocessing.lfr import LFR\n",
    "from aif360.datasets import BinaryLabelDataset\n",
    "from IPython.display import Markdown, display"
   ]
  },
  {
   "cell_type": "code",
   "execution_count": 46,
   "metadata": {},
   "outputs": [
    {
     "name": "stdout",
     "output_type": "stream",
     "text": [
      "step: 0, loss: 0.7291404741653125, L_x: 0.25964293440347247,  L_y: 0.6745982146110635,  L_z: 0.014288983056950842\n",
      "step: 250, loss: 0.6528869267876272, L_x: 0.2587397795444081,  L_y: 0.6005785642331125,  L_z: 0.013217192300036942\n",
      "step: 500, loss: 0.588370882872371, L_x: 0.2525687494779225,  L_y: 0.5455487596425248,  L_z: 0.008782624141026995\n",
      "step: 750, loss: 0.6065248934343175, L_x: 0.20824948321694464,  L_y: 0.5464217996757036,  L_z: 0.019639072718459712\n",
      "step: 1000, loss: 0.5797997782542352, L_x: 0.2405839078890577,  L_y: 0.5440375991511441,  L_z: 0.005851894157092618\n",
      "step: 1250, loss: 0.5776248895968202, L_x: 0.23846188650388578,  L_y: 0.543134023573522,  L_z: 0.005322338686454818\n",
      "step: 1500, loss: 0.5702710388352253, L_x: 0.22135270189051476,  L_y: 0.5396834778283065,  L_z: 0.004226145408933676\n",
      "step: 1750, loss: 0.5658970710897983, L_x: 0.20030924177837447,  L_y: 0.5368368902499002,  L_z: 0.0045146283310302905\n",
      "step: 2000, loss: 0.5625091086661053, L_x: 0.20280647996985757,  L_y: 0.5361654433311798,  L_z: 0.0030315086689699003\n",
      "step: 2250, loss: 0.5550286556734826, L_x: 0.18315289611921423,  L_y: 0.5297971489568404,  L_z: 0.003458108552360381\n",
      "step: 2500, loss: 0.5450065840359483, L_x: 0.16527321816792942,  L_y: 0.5231013722361205,  L_z: 0.002688944991517368\n",
      "step: 2750, loss: 0.5411751898812674, L_x: 0.14429373860355454,  L_y: 0.5157635487618317,  L_z: 0.0054911336295401045\n",
      "step: 3000, loss: 0.552282563764218, L_x: 0.12821403007286525,  L_y: 0.5147679840640826,  L_z: 0.012346588346424428\n",
      "step: 3250, loss: 0.5323034927178358, L_x: 0.1307189124753345,  L_y: 0.5096395557161673,  L_z: 0.0047960228770675606\n",
      "step: 3500, loss: 0.5309937476561261, L_x: 0.1304238016615013,  L_y: 0.5091900494973864,  L_z: 0.004380658996294763\n",
      "step: 3750, loss: 0.5295152820198828, L_x: 0.13018930489203123,  L_y: 0.5084064053533385,  L_z: 0.004044973088670632\n",
      "step: 4000, loss: 0.5289587677821053, L_x: 0.12992026368227527,  L_y: 0.507975047947312,  L_z: 0.003995846733282917\n",
      "step: 4250, loss: 0.5272640488719142, L_x: 0.14405181244877016,  L_y: 0.5037221084349667,  L_z: 0.004568379596035276\n",
      "step: 4500, loss: 0.5235850197004747, L_x: 0.14361163370087582,  L_y: 0.5018376868921041,  L_z: 0.0036930847191415012\n",
      "step: 4750, loss: 0.5220167625378854, L_x: 0.15945714779496195,  L_y: 0.4979647013973979,  L_z: 0.004053173180495627\n",
      "step: 5000, loss: 0.5195733591429562, L_x: 0.1464063512678362,  L_y: 0.4962751922586833,  L_z: 0.004328765878744663\n"
     ]
    }
   ],
   "source": [
    "from sklearn.model_selection import train_test_split\n",
    "from sklearn.linear_model import LogisticRegression\n",
    "\n",
    "protected_attribute = \"sex\"\n",
    "data1,dataset_orig_test = train_test_split(data,test_size=0.2,random_state=0)\n",
    "X_train, y_train =  data1.loc[:, data1.columns != 'Probability'], data1['Probability']\n",
    "X_test, y_test = dataset_orig_test.loc[:, dataset_orig_test.columns != 'Probability'], dataset_orig_test['Probability']\n",
    "\n",
    "privileged_groups = [{protected_attribute: 1}]\n",
    "unprivileged_groups = [{protected_attribute: 0}]\n",
    "\n",
    "TR = LFR(unprivileged_groups=unprivileged_groups,\n",
    "         privileged_groups=privileged_groups,\n",
    "         k=10, Ax=0.1, Ay=1, Az=2,\n",
    "         verbose=1)\n",
    "\n",
    "dataset_orig1 = BinaryLabelDataset(df=data1, label_names=['Probability'], protected_attribute_names=[protected_attribute])\n",
    "\n",
    "TR.fit(dataset_orig1, maxiter=5000, maxfun=5000)\n",
    "\n",
    "dataset_transf = TR.transform(dataset_orig1)"
   ]
  },
  {
   "cell_type": "code",
   "execution_count": null,
   "metadata": {},
   "outputs": [],
   "source": [
    "from Measure import measure_final_score,calculate_recall,calculate_far,calculate_precision,calculate_accuracy\n",
    "\n",
    "df, yy = dataset_transf.convert_to_dataframe()\n",
    "clf = LogisticRegression(C=1.0, penalty='l2', solver='liblinear', max_iter=100) # LSR\n",
    "X_train, y_train = df.loc[:, df.columns != 'Probability'], df['Probability']\n",
    "clf.fit(X_train,y_train)\n",
    "# print(\"recall :\", measure_final_score(dataset_orig_test, clf, X_train, y_train, X_test, y_test, protected_attribute, 'recall'))\n",
    "# print(\"far :\",measure_final_score(dataset_orig_test, clf, X_train, y_train, X_test, y_test, protected_attribute, 'far'))\n",
    "# print(\"precision :\", measure_final_score(dataset_orig_test, clf, X_train, y_train, X_test, y_test, protected_attribute, 'precision'))\n",
    "# print(\"accuracy :\",measure_final_score(dataset_orig_test, clf, X_train, y_train, X_test, y_test, protected_attribute, 'accuracy'))\n",
    "# print(\"F1 Score :\",measure_final_score(dataset_orig_test, clf, X_train, y_train, X_test, y_test, protected_attribute, 'F1'))\n",
    "print(\"aod :\"+protected_attribute,measure_final_score(dataset_orig_test, clf, X_train, y_train, X_test, y_test, protected_attribute, 'aod'))\n",
    "print(\"eod :\"+protected_attribute,measure_final_score(dataset_orig_test, clf, X_train, y_train, X_test, y_test, protected_attribute, 'eod'))\n",
    "\n",
    "print(\"SPD:\",measure_final_score(dataset_orig_test, clf, X_train, y_train, X_test, y_test, protected_attribute, 'SPD'))\n",
    "print(\"DI:\",measure_final_score(dataset_orig_test, clf, X_train, y_train, X_test, y_test, protected_attribute, 'DI'))"
   ]
  },
  {
   "cell_type": "markdown",
   "metadata": {},
   "source": [
    "# Graph"
   ]
  },
  {
   "cell_type": "code",
   "execution_count": null,
   "metadata": {},
   "outputs": [],
   "source": [
    "causal_graph = \"\"\"\n",
    "digraph {\n",
    "marital_status;\n",
    "workclass;\n",
    "occupation;\n",
    "relationship;\n",
    "race;\n",
    "sex;\n",
    "education_num;\n",
    "Probability;\n",
    "U[label=\"Unobserved Confounders\"];\n",
    "sex -> Probability;\n",
    "sex -> marital_status; marital_status -> Probability; workclass -> occupation;\n",
    "marital_status -> occupation; occupation -> Probability\n",
    "marital_status -> relationship; relationship -> Probability\n",
    "race -> occupation; race -> Probability;\n",
    "race -> education_num; education_num -> workclass;\n",
    "workclass -> Probability;\n",
    "U->sex;U->race;U->Probability;\n",
    "}\n",
    "\"\"\"\n",
    "\n",
    "## dowhy works for binary inputs only\n",
    "\n",
    "df['Probability'] = np.where(df['Probability'] == 0, False, True)\n",
    "df[protected_attribute] = np.where(df[protected_attribute] == 1, True, False)"
   ]
  },
  {
   "cell_type": "code",
   "execution_count": null,
   "metadata": {},
   "outputs": [],
   "source": [
    "# With graph\n",
    "model=CausalModel(\n",
    "        data = df,\n",
    "        treatment=protected_attribute,\n",
    "        outcome=\"Probability\",\n",
    "        graph=causal_graph.replace(\"\\n\", \" \")\n",
    "        )\n",
    "model.view_model()"
   ]
  },
  {
   "cell_type": "code",
   "execution_count": null,
   "metadata": {},
   "outputs": [],
   "source": [
    "identified_estimand = model.identify_effect(proceed_when_unidentifiable=True)\n",
    "print(identified_estimand)"
   ]
  },
  {
   "cell_type": "code",
   "execution_count": null,
   "metadata": {},
   "outputs": [],
   "source": [
    "causal_estimate = model.estimate_effect(identified_estimand,\n",
    "        method_name=\"backdoor.propensity_score_stratification\")\n",
    "print(causal_estimate)\n",
    "print(\"Causal Estimate is \" + str(causal_estimate.value))"
   ]
  },
  {
   "cell_type": "code",
   "execution_count": null,
   "metadata": {},
   "outputs": [],
   "source": [
    "# Causal effect on the control group (ATC)\n",
    "causal_estimate_att = model.estimate_effect(identified_estimand,\n",
    "        method_name=\"backdoor.propensity_score_stratification\",\n",
    "        target_units = \"atc\")\n",
    "print(causal_estimate_att)\n",
    "print(\"Causal Estimate is \" + str(causal_estimate_att.value))"
   ]
  },
  {
   "cell_type": "markdown",
   "metadata": {},
   "source": [
    "# Add Random Common Cause"
   ]
  },
  {
   "cell_type": "code",
   "execution_count": null,
   "metadata": {},
   "outputs": [],
   "source": [
    "refutel = model.refute_estimate(identified_estimand,causal_estimate, \"random_common_cause\")\n",
    "print(refutel)"
   ]
  },
  {
   "cell_type": "markdown",
   "metadata": {},
   "source": [
    "# Replace Treatment with Placebo"
   ]
  },
  {
   "cell_type": "code",
   "execution_count": null,
   "metadata": {},
   "outputs": [],
   "source": [
    "refutel = model.refute_estimate(identified_estimand,causal_estimate,method_name=\"placebo_treatment_refuter\",placebo_type=\"permute\")\n",
    "print(refutel)"
   ]
  },
  {
   "cell_type": "markdown",
   "metadata": {},
   "source": [
    "# Remove Random Subset of Data"
   ]
  },
  {
   "cell_type": "code",
   "execution_count": null,
   "metadata": {},
   "outputs": [],
   "source": [
    "refutel = model.refute_estimate(identified_estimand,causal_estimate, \"data_subset_refuter\")\n",
    "print(refutel)"
   ]
  },
  {
   "cell_type": "code",
   "execution_count": null,
   "metadata": {},
   "outputs": [],
   "source": []
  }
 ],
 "metadata": {
  "kernelspec": {
   "display_name": "Python 3",
   "language": "python",
   "name": "python3"
  },
  "language_info": {
   "codemirror_mode": {
    "name": "ipython",
    "version": 3
   },
   "file_extension": ".py",
   "mimetype": "text/x-python",
   "name": "python",
   "nbconvert_exporter": "python",
   "pygments_lexer": "ipython3",
   "version": "3.7.3"
  }
 },
 "nbformat": 4,
 "nbformat_minor": 2
}
