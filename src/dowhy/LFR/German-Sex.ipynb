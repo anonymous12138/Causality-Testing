{
 "cells": [
  {
   "cell_type": "code",
   "execution_count": 1,
   "metadata": {},
   "outputs": [],
   "source": [
    "# Example - https://github.com/cornelliusyudhawijaya/Churn_Causality_Analysis/blob/main/Causal%20Analysis%20Do%20Why.ipynb\n",
    "    \n",
    "import numpy as np\n",
    "import pandas as pd\n",
    "\n",
    "from dowhy import CausalModel\n",
    "import dowhy.datasets \n",
    "\n",
    "# Avoid printing dataconversion warnings from sklearn and numpy\n",
    "import warnings\n",
    "from sklearn.exceptions import DataConversionWarning\n",
    "warnings.filterwarnings('ignore')"
   ]
  },
  {
   "cell_type": "markdown",
   "metadata": {},
   "source": [
    "# Prepare Data"
   ]
  },
  {
   "cell_type": "code",
   "execution_count": 2,
   "metadata": {},
   "outputs": [
    {
     "name": "stdout",
     "output_type": "stream",
     "text": [
      "['credit_history', 'savings', 'employment', 'sex']\n"
     ]
    },
    {
     "data": {
      "text/html": [
       "<div>\n",
       "<style scoped>\n",
       "    .dataframe tbody tr th:only-of-type {\n",
       "        vertical-align: middle;\n",
       "    }\n",
       "\n",
       "    .dataframe tbody tr th {\n",
       "        vertical-align: top;\n",
       "    }\n",
       "\n",
       "    .dataframe thead th {\n",
       "        text-align: right;\n",
       "    }\n",
       "</style>\n",
       "<table border=\"1\" class=\"dataframe\">\n",
       "  <thead>\n",
       "    <tr style=\"text-align: right;\">\n",
       "      <th></th>\n",
       "      <th>credit_history</th>\n",
       "      <th>savings</th>\n",
       "      <th>employment</th>\n",
       "      <th>sex</th>\n",
       "      <th>age</th>\n",
       "      <th>Probability</th>\n",
       "    </tr>\n",
       "  </thead>\n",
       "  <tbody>\n",
       "    <tr>\n",
       "      <th>0</th>\n",
       "      <td>2</td>\n",
       "      <td>2</td>\n",
       "      <td>1</td>\n",
       "      <td>1</td>\n",
       "      <td>1</td>\n",
       "      <td>1</td>\n",
       "    </tr>\n",
       "    <tr>\n",
       "      <th>1</th>\n",
       "      <td>0</td>\n",
       "      <td>0</td>\n",
       "      <td>0</td>\n",
       "      <td>0</td>\n",
       "      <td>0</td>\n",
       "      <td>0</td>\n",
       "    </tr>\n",
       "    <tr>\n",
       "      <th>2</th>\n",
       "      <td>2</td>\n",
       "      <td>0</td>\n",
       "      <td>1</td>\n",
       "      <td>1</td>\n",
       "      <td>1</td>\n",
       "      <td>1</td>\n",
       "    </tr>\n",
       "    <tr>\n",
       "      <th>3</th>\n",
       "      <td>0</td>\n",
       "      <td>0</td>\n",
       "      <td>1</td>\n",
       "      <td>1</td>\n",
       "      <td>1</td>\n",
       "      <td>1</td>\n",
       "    </tr>\n",
       "    <tr>\n",
       "      <th>4</th>\n",
       "      <td>1</td>\n",
       "      <td>0</td>\n",
       "      <td>0</td>\n",
       "      <td>1</td>\n",
       "      <td>1</td>\n",
       "      <td>0</td>\n",
       "    </tr>\n",
       "    <tr>\n",
       "      <th>...</th>\n",
       "      <td>...</td>\n",
       "      <td>...</td>\n",
       "      <td>...</td>\n",
       "      <td>...</td>\n",
       "      <td>...</td>\n",
       "      <td>...</td>\n",
       "    </tr>\n",
       "    <tr>\n",
       "      <th>995</th>\n",
       "      <td>0</td>\n",
       "      <td>0</td>\n",
       "      <td>1</td>\n",
       "      <td>0</td>\n",
       "      <td>1</td>\n",
       "      <td>1</td>\n",
       "    </tr>\n",
       "    <tr>\n",
       "      <th>996</th>\n",
       "      <td>0</td>\n",
       "      <td>0</td>\n",
       "      <td>0</td>\n",
       "      <td>1</td>\n",
       "      <td>1</td>\n",
       "      <td>1</td>\n",
       "    </tr>\n",
       "    <tr>\n",
       "      <th>997</th>\n",
       "      <td>0</td>\n",
       "      <td>0</td>\n",
       "      <td>1</td>\n",
       "      <td>1</td>\n",
       "      <td>1</td>\n",
       "      <td>1</td>\n",
       "    </tr>\n",
       "    <tr>\n",
       "      <th>998</th>\n",
       "      <td>0</td>\n",
       "      <td>0</td>\n",
       "      <td>0</td>\n",
       "      <td>1</td>\n",
       "      <td>0</td>\n",
       "      <td>0</td>\n",
       "    </tr>\n",
       "    <tr>\n",
       "      <th>999</th>\n",
       "      <td>2</td>\n",
       "      <td>0</td>\n",
       "      <td>2</td>\n",
       "      <td>1</td>\n",
       "      <td>1</td>\n",
       "      <td>1</td>\n",
       "    </tr>\n",
       "  </tbody>\n",
       "</table>\n",
       "<p>1000 rows × 6 columns</p>\n",
       "</div>"
      ],
      "text/plain": [
       "     credit_history  savings  employment  sex  age  Probability\n",
       "0                 2        2           1    1    1            1\n",
       "1                 0        0           0    0    0            0\n",
       "2                 2        0           1    1    1            1\n",
       "3                 0        0           1    1    1            1\n",
       "4                 1        0           0    1    1            0\n",
       "..              ...      ...         ...  ...  ...          ...\n",
       "995               0        0           1    0    1            1\n",
       "996               0        0           0    1    1            1\n",
       "997               0        0           1    1    1            1\n",
       "998               0        0           0    1    0            0\n",
       "999               2        0           2    1    1            1\n",
       "\n",
       "[1000 rows x 6 columns]"
      ]
     },
     "execution_count": 2,
     "metadata": {},
     "output_type": "execute_result"
    }
   ],
   "source": [
    "data = pd.read_csv('../../../data/GermanData.csv')\n",
    "\n",
    "## Drop categorical features\n",
    "data = data.drop(['1','2','4','5','8','10','11','12','14','15','16','17','18','19','20'],axis=1)\n",
    "\n",
    "\n",
    "## Drop NULL values\n",
    "data = data.dropna()\n",
    "\n",
    "## for dowhy\n",
    "## Change symbolics to numerics\n",
    "data['sex'] = np.where(data['sex'] == 'A91', 1, data['sex'])\n",
    "data['sex'] = np.where(data['sex'] == 'A92', 0, data['sex'])\n",
    "data['sex'] = np.where(data['sex'] == 'A93', 1, data['sex'])\n",
    "data['sex'] = np.where(data['sex'] == 'A94', 1, data['sex'])\n",
    "data['sex'] = np.where(data['sex'] == 'A95', 0, data['sex'])\n",
    "\n",
    "# mean = data.loc[:,\"age\"].mean()\n",
    "# data['age'] = np.where(data['age'] >= mean, 1, 0)\n",
    "data['age'] = np.where(data['age'] >= 25, 1, 0)\n",
    "data['credit_history'] = np.where(data['credit_history'] == 'A30', 1, data['credit_history'])\n",
    "data['credit_history'] = np.where(data['credit_history'] == 'A31', 1, data['credit_history'])\n",
    "data['credit_history'] = np.where(data['credit_history'] == 'A32', 1, data['credit_history'])\n",
    "data['credit_history'] = np.where(data['credit_history'] == 'A33', 2, data['credit_history'])\n",
    "data['credit_history'] = np.where(data['credit_history'] == 'A34', 3, data['credit_history'])\n",
    "\n",
    "data['savings'] = np.where(data['savings'] == 'A61', 1, data['savings'])\n",
    "data['savings'] = np.where(data['savings'] == 'A62', 1, data['savings'])\n",
    "data['savings'] = np.where(data['savings'] == 'A63', 2, data['savings'])\n",
    "data['savings'] = np.where(data['savings'] == 'A64', 2, data['savings'])\n",
    "data['savings'] = np.where(data['savings'] == 'A65', 3, data['savings'])\n",
    "\n",
    "data['employment'] = np.where(data['employment'] == 'A72', 1, data['employment'])\n",
    "data['employment'] = np.where(data['employment'] == 'A73', 1, data['employment'])\n",
    "data['employment'] = np.where(data['employment'] == 'A74', 2, data['employment'])\n",
    "data['employment'] = np.where(data['employment'] == 'A75', 2, data['employment'])\n",
    "data['employment'] = np.where(data['employment'] == 'A71', 3, data['employment'])\n",
    "\n",
    "data['Probability'] = np.where(data['Probability'] == 2, 0, 1)\n",
    "\n",
    "non_numeric_columns = list(data.select_dtypes(exclude=[np.number]).columns)\n",
    "\n",
    "from sklearn.preprocessing import LabelEncoder\n",
    "\n",
    "le = LabelEncoder()\n",
    "\n",
    "for col in non_numeric_columns:\n",
    "    data[col] = le.fit_transform(data[col])\n",
    "\n",
    "print(non_numeric_columns)\n",
    "\n",
    "from sklearn.preprocessing import MinMaxScaler,StandardScaler\n",
    "\n",
    "scaler = MinMaxScaler()\n",
    "# dataset_orig = pd.DataFrame(scaler.fit_transform(data),columns = data.columns)\n",
    "\n",
    "protected_attribute = \"sex\"\n",
    "\n",
    "dataset_orig = data.copy()\n",
    "dataset_orig"
   ]
  },
  {
   "cell_type": "code",
   "execution_count": 3,
   "metadata": {},
   "outputs": [],
   "source": [
    "# This dataset size is very small. So repeating it to make it bigger\n",
    "\n",
    "dataset_orig = pd.concat([dataset_orig]*5, ignore_index=True)"
   ]
  },
  {
   "cell_type": "markdown",
   "metadata": {},
   "source": [
    "# Transform data using LFR"
   ]
  },
  {
   "cell_type": "code",
   "execution_count": 6,
   "metadata": {},
   "outputs": [
    {
     "name": "stdout",
     "output_type": "stream",
     "text": [
      "step: 0, loss: 2.0825850491196225, L_x: 0.8430360492633664,  L_y: 0.666575832316507,  L_z: 0.028151577126209637\n",
      "step: 250, loss: 0.7186430616070987, L_x: 0.8498628588400394,  L_y: 0.6539975283309216,  L_z: 0.0011229380937555322\n",
      "step: 500, loss: 0.6997083200675452, L_x: 0.8496947796651106,  L_y: 0.6533977506387091,  L_z: 0.0007562724326437009\n",
      "aod :sex 0.02\n",
      "eod :sex -0.07\n",
      "SPD: 0.08\n",
      "DI: -0.11\n"
     ]
    }
   ],
   "source": [
    "from aif360.algorithms.preprocessing.lfr import LFR\n",
    "from aif360.datasets import BinaryLabelDataset\n",
    "from IPython.display import Markdown, display\n",
    "from sklearn.linear_model import LogisticRegression\n",
    "from sklearn.tree import DecisionTreeRegressor\n",
    "from sklearn.model_selection import train_test_split\n",
    "\n",
    "protected_attribute = \"sex\"\n",
    "dataset_orig_train, dataset_orig_test = train_test_split(dataset_orig, test_size=0.2,random_state=0)\n",
    "privileged_groups = [{protected_attribute: 1}]\n",
    "unprivileged_groups = [{protected_attribute: 0}]\n",
    "\n",
    "TR = LFR(unprivileged_groups=unprivileged_groups,\n",
    "         privileged_groups=privileged_groups,\n",
    "#          k=10, Ax=1, Ay=1.0, Az=10.0,\n",
    "         verbose=1)\n",
    "\n",
    "dataset_orig_train = BinaryLabelDataset(df=dataset_orig_train, label_names=['Probability'], protected_attribute_names=[protected_attribute])\n",
    "\n",
    "TR.fit(dataset_orig_train, maxiter=500, maxfun=500)\n",
    "\n",
    "dataset_transf = TR.transform(dataset_orig_train)\n",
    "dataset_orig_train, yy = dataset_transf.convert_to_dataframe()\n",
    "\n",
    "from sklearn.linear_model import LogisticRegression\n",
    "from Measure import measure_final_score,calculate_recall,calculate_far,calculate_precision,calculate_accuracy\n",
    "\n",
    "X_train, y_train =  dataset_orig_train.loc[:, dataset_orig_train.columns != 'Probability'], dataset_orig_train['Probability']\n",
    "X_test, y_test = dataset_orig_test.loc[:, dataset_orig_test.columns != 'Probability'], dataset_orig_test['Probability']\n",
    "        \n",
    "clf = LogisticRegression(C=1.0, penalty='l2', solver='liblinear', max_iter=100) # LSR\n",
    "clf.fit(X_train,y_train)\n",
    "\n",
    "print(\"aod :\"+protected_attribute,measure_final_score(dataset_orig_test, clf, X_train, y_train, X_test, y_test, protected_attribute, 'aod'))\n",
    "print(\"eod :\"+protected_attribute,measure_final_score(dataset_orig_test, clf, X_train, y_train, X_test, y_test, protected_attribute, 'eod'))\n",
    "print(\"SPD:\",measure_final_score(dataset_orig_test, clf, X_train, y_train, X_test, y_test, protected_attribute, 'SPD'))\n",
    "print(\"DI:\",measure_final_score(dataset_orig_test, clf, X_train, y_train, X_test, y_test, protected_attribute, 'DI'))"
   ]
  },
  {
   "cell_type": "markdown",
   "metadata": {},
   "source": [
    "# Graph"
   ]
  },
  {
   "cell_type": "code",
   "execution_count": 20,
   "metadata": {},
   "outputs": [],
   "source": [
    "causal_graph = \"\"\"\n",
    "digraph {\n",
    "credit_history;\n",
    "savings;\n",
    "employment;\n",
    "age;\n",
    "sex;\n",
    "Probability;\n",
    "U[label=\"Unobserved Confounders\"];\n",
    "sex -> Probability;\n",
    "sex -> employment; employment -> Probability;\n",
    "credit_history -> Probability;\n",
    "savings -> Probability;\n",
    "credit_history -> savings;\n",
    "age -> savings;\n",
    "U->sex;U->Probability;\n",
    "}\n",
    "\"\"\"\n",
    "\n",
    "## dowhy works for binary inputs only\n",
    "\n",
    "\n",
    "dataset_orig_train['Probability'] = np.where(dataset_orig_train['Probability'] == 0, False, True)\n",
    "dataset_orig_train[protected_attribute] = np.where(dataset_orig_train[protected_attribute] == 1, True, False)"
   ]
  },
  {
   "cell_type": "code",
   "execution_count": 21,
   "metadata": {},
   "outputs": [
    {
     "data": {
      "image/png": "[encoded data removed]",
      "text/plain": [
       "<Figure size 432x288 with 1 Axes>"
      ]
     },
     "metadata": {},
     "output_type": "display_data"
    }
   ],
   "source": [
    "# With graph\n",
    "model=CausalModel(\n",
    "        data = dataset_orig_train,\n",
    "        treatment=protected_attribute,\n",
    "        outcome=\"Probability\",\n",
    "        graph=causal_graph.replace(\"\\n\", \" \")\n",
    "        )\n",
    "model.view_model()\n"
   ]
  },
  {
   "cell_type": "code",
   "execution_count": 22,
   "metadata": {},
   "outputs": [
    {
     "name": "stdout",
     "output_type": "stream",
     "text": [
      "Estimand type: nonparametric-ate\n",
      "\n",
      "### Estimand : 1\n",
      "Estimand name: backdoor\n",
      "Estimand expression:\n",
      "  d                                                        \n",
      "──────(Expectation(Probability|savings,age,credit_history))\n",
      "d[sex]                                                     \n",
      "Estimand assumption 1, Unconfoundedness: If U→{sex} and U→Probability then P(Probability|sex,savings,age,credit_history,U) = P(Probability|sex,savings,age,credit_history)\n",
      "\n",
      "### Estimand : 2\n",
      "Estimand name: iv\n",
      "No such variable found!\n",
      "\n",
      "### Estimand : 3\n",
      "Estimand name: frontdoor\n",
      "No such variable found!\n",
      "\n",
      "*** Causal Estimate ***\n",
      "\n",
      "## Identified estimand\n",
      "Estimand type: nonparametric-ate\n",
      "\n",
      "### Estimand : 1\n",
      "Estimand name: backdoor\n",
      "Estimand expression:\n",
      "  d                                                        \n",
      "──────(Expectation(Probability|savings,age,credit_history))\n",
      "d[sex]                                                     \n",
      "Estimand assumption 1, Unconfoundedness: If U→{sex} and U→Probability then P(Probability|sex,savings,age,credit_history,U) = P(Probability|sex,savings,age,credit_history)\n",
      "\n",
      "## Realized estimand\n",
      "b: Probability~sex+savings+age+credit_history\n",
      "Target units: ate\n",
      "\n",
      "## Estimate\n",
      "Mean value: -0.000503789372234631\n",
      "\n",
      "Causal Estimate is -0.000503789372234631\n"
     ]
    }
   ],
   "source": [
    "identified_estimand = model.identify_effect(proceed_when_unidentifiable=True)\n",
    "print(identified_estimand)\n",
    "\n",
    "causal_estimate = model.estimate_effect(identified_estimand,\n",
    "        method_name=\"backdoor.propensity_score_stratification\")\n",
    "print(causal_estimate)\n",
    "print(\"Causal Estimate is \" + str(causal_estimate.value))"
   ]
  },
  {
   "cell_type": "code",
   "execution_count": 204,
   "metadata": {
    "collapsed": true
   },
   "outputs": [
    {
     "ename": "ValueError",
     "evalue": "Method requires strata with number of data points per treatment > clipping_threshold (=10). No such strata exists. Consider decreasing 'num_strata' or 'clipping_threshold' parameters.",
     "output_type": "error",
     "traceback": [
      "\u001b[1;31m---------------------------------------------------------------------------\u001b[0m",
      "\u001b[1;31mValueError\u001b[0m                                Traceback (most recent call last)",
      "\u001b[1;32m<ipython-input-204-72a5255255ef>\u001b[0m in \u001b[0;36m<module>\u001b[1;34m\u001b[0m\n\u001b[0;32m      1\u001b[0m causal_estimate = model.estimate_effect(identified_estimand,\n\u001b[1;32m----> 2\u001b[1;33m         method_name=\"backdoor.propensity_score_stratification\")\n\u001b[0m\u001b[0;32m      3\u001b[0m \u001b[0mprint\u001b[0m\u001b[1;33m(\u001b[0m\u001b[0mcausal_estimate\u001b[0m\u001b[1;33m)\u001b[0m\u001b[1;33m\u001b[0m\u001b[1;33m\u001b[0m\u001b[0m\n\u001b[0;32m      4\u001b[0m \u001b[0mprint\u001b[0m\u001b[1;33m(\u001b[0m\u001b[1;34m\"Causal Estimate is \"\u001b[0m \u001b[1;33m+\u001b[0m \u001b[0mstr\u001b[0m\u001b[1;33m(\u001b[0m\u001b[0mcausal_estimate\u001b[0m\u001b[1;33m.\u001b[0m\u001b[0mvalue\u001b[0m\u001b[1;33m)\u001b[0m\u001b[1;33m)\u001b[0m\u001b[1;33m\u001b[0m\u001b[1;33m\u001b[0m\u001b[0m\n",
      "\u001b[1;32m~\\Anaconda3\\lib\\site-packages\\dowhy\\causal_model.py\u001b[0m in \u001b[0;36mestimate_effect\u001b[1;34m(self, identified_estimand, method_name, control_value, treatment_value, test_significance, evaluate_effect_strength, confidence_intervals, target_units, effect_modifiers, method_params)\u001b[0m\n\u001b[0;32m    229\u001b[0m                 \u001b[0mparams\u001b[0m\u001b[1;33m=\u001b[0m\u001b[0mmethod_params\u001b[0m\u001b[1;33m\u001b[0m\u001b[1;33m\u001b[0m\u001b[0m\n\u001b[0;32m    230\u001b[0m             )\n\u001b[1;32m--> 231\u001b[1;33m             \u001b[0mestimate\u001b[0m \u001b[1;33m=\u001b[0m \u001b[0mcausal_estimator\u001b[0m\u001b[1;33m.\u001b[0m\u001b[0mestimate_effect\u001b[0m\u001b[1;33m(\u001b[0m\u001b[1;33m)\u001b[0m\u001b[1;33m\u001b[0m\u001b[1;33m\u001b[0m\u001b[0m\n\u001b[0m\u001b[0;32m    232\u001b[0m             \u001b[1;31m# Store parameters inside estimate object for refutation methods\u001b[0m\u001b[1;33m\u001b[0m\u001b[1;33m\u001b[0m\u001b[1;33m\u001b[0m\u001b[0m\n\u001b[0;32m    233\u001b[0m             \u001b[1;31m# TODO: This add_params needs to move to the estimator class\u001b[0m\u001b[1;33m\u001b[0m\u001b[1;33m\u001b[0m\u001b[1;33m\u001b[0m\u001b[0m\n",
      "\u001b[1;32m~\\Anaconda3\\lib\\site-packages\\dowhy\\causal_estimator.py\u001b[0m in \u001b[0;36mestimate_effect\u001b[1;34m(self)\u001b[0m\n\u001b[0;32m    168\u001b[0m         \u001b[1;33m:\u001b[0m\u001b[0mreturns\u001b[0m\u001b[1;33m:\u001b[0m \u001b[0mA\u001b[0m \u001b[0mCausalEstimate\u001b[0m \u001b[0minstance\u001b[0m \u001b[0mthat\u001b[0m \u001b[0mcontains\u001b[0m \u001b[0mpoint\u001b[0m \u001b[0mestimates\u001b[0m \u001b[0mof\u001b[0m \u001b[0maverage\u001b[0m \u001b[1;32mand\u001b[0m \u001b[0mconditional\u001b[0m \u001b[0meffects\u001b[0m\u001b[1;33m.\u001b[0m \u001b[0mBased\u001b[0m \u001b[0mon\u001b[0m \u001b[0mthe\u001b[0m \u001b[0mparameters\u001b[0m \u001b[0mprovided\u001b[0m\u001b[1;33m,\u001b[0m \u001b[0mit\u001b[0m \u001b[0moptionally\u001b[0m \u001b[0mincludes\u001b[0m \u001b[0mconfidence\u001b[0m \u001b[0mintervals\u001b[0m\u001b[1;33m,\u001b[0m \u001b[0mstandard\u001b[0m \u001b[0merrors\u001b[0m\u001b[1;33m,\u001b[0m\u001b[0mstatistical\u001b[0m \u001b[0msignificance\u001b[0m \u001b[1;32mand\u001b[0m \u001b[0mother\u001b[0m \u001b[0mstatistical\u001b[0m \u001b[0mparameters\u001b[0m\u001b[1;33m.\u001b[0m\u001b[1;33m\u001b[0m\u001b[1;33m\u001b[0m\u001b[0m\n\u001b[0;32m    169\u001b[0m         \"\"\"\n\u001b[1;32m--> 170\u001b[1;33m         \u001b[0mest\u001b[0m \u001b[1;33m=\u001b[0m \u001b[0mself\u001b[0m\u001b[1;33m.\u001b[0m\u001b[0m_estimate_effect\u001b[0m\u001b[1;33m(\u001b[0m\u001b[1;33m)\u001b[0m\u001b[1;33m\u001b[0m\u001b[1;33m\u001b[0m\u001b[0m\n\u001b[0m\u001b[0;32m    171\u001b[0m         \u001b[0mest\u001b[0m\u001b[1;33m.\u001b[0m\u001b[0madd_estimator\u001b[0m\u001b[1;33m(\u001b[0m\u001b[0mself\u001b[0m\u001b[1;33m)\u001b[0m\u001b[1;33m\u001b[0m\u001b[1;33m\u001b[0m\u001b[0m\n\u001b[0;32m    172\u001b[0m \u001b[1;33m\u001b[0m\u001b[0m\n",
      "\u001b[1;32m~\\Anaconda3\\lib\\site-packages\\dowhy\\causal_estimators\\propensity_score_stratification_estimator.py\u001b[0m in \u001b[0;36m_estimate_effect\u001b[1;34m(self, recalculate_propensity_score)\u001b[0m\n\u001b[0;32m     51\u001b[0m         \u001b[0mself\u001b[0m\u001b[1;33m.\u001b[0m\u001b[0mlogger\u001b[0m\u001b[1;33m.\u001b[0m\u001b[0mdebug\u001b[0m\u001b[1;33m(\u001b[0m\u001b[1;34m\"After using clipping_threshold={0}, here are the number of data points in each strata:\\n {1}\"\u001b[0m\u001b[1;33m.\u001b[0m\u001b[0mformat\u001b[0m\u001b[1;33m(\u001b[0m\u001b[0mself\u001b[0m\u001b[1;33m.\u001b[0m\u001b[0mclipping_threshold\u001b[0m\u001b[1;33m,\u001b[0m \u001b[0mclipped\u001b[0m\u001b[1;33m.\u001b[0m\u001b[0mgroupby\u001b[0m\u001b[1;33m(\u001b[0m\u001b[1;33m[\u001b[0m\u001b[1;34m'strata'\u001b[0m\u001b[1;33m,\u001b[0m\u001b[0mself\u001b[0m\u001b[1;33m.\u001b[0m\u001b[0m_treatment_name\u001b[0m\u001b[1;33m[\u001b[0m\u001b[1;36m0\u001b[0m\u001b[1;33m]\u001b[0m\u001b[1;33m]\u001b[0m\u001b[1;33m)\u001b[0m\u001b[1;33m[\u001b[0m\u001b[0mself\u001b[0m\u001b[1;33m.\u001b[0m\u001b[0m_outcome_name\u001b[0m\u001b[1;33m]\u001b[0m\u001b[1;33m.\u001b[0m\u001b[0mcount\u001b[0m\u001b[1;33m(\u001b[0m\u001b[1;33m)\u001b[0m\u001b[1;33m)\u001b[0m\u001b[1;33m)\u001b[0m\u001b[1;33m\u001b[0m\u001b[1;33m\u001b[0m\u001b[0m\n\u001b[0;32m     52\u001b[0m         \u001b[1;32mif\u001b[0m \u001b[0mclipped\u001b[0m\u001b[1;33m.\u001b[0m\u001b[0mempty\u001b[0m\u001b[1;33m:\u001b[0m\u001b[1;33m\u001b[0m\u001b[1;33m\u001b[0m\u001b[0m\n\u001b[1;32m---> 53\u001b[1;33m             \u001b[1;32mraise\u001b[0m \u001b[0mValueError\u001b[0m\u001b[1;33m(\u001b[0m\u001b[1;34m\"Method requires strata with number of data points per treatment > clipping_threshold (={0}). No such strata exists. Consider decreasing 'num_strata' or 'clipping_threshold' parameters.\"\u001b[0m\u001b[1;33m.\u001b[0m\u001b[0mformat\u001b[0m\u001b[1;33m(\u001b[0m\u001b[0mself\u001b[0m\u001b[1;33m.\u001b[0m\u001b[0mclipping_threshold\u001b[0m\u001b[1;33m)\u001b[0m\u001b[1;33m)\u001b[0m\u001b[1;33m\u001b[0m\u001b[1;33m\u001b[0m\u001b[0m\n\u001b[0m\u001b[0;32m     54\u001b[0m         \u001b[1;31m# sum weighted outcomes over all strata  (weight by treated population)\u001b[0m\u001b[1;33m\u001b[0m\u001b[1;33m\u001b[0m\u001b[1;33m\u001b[0m\u001b[0m\n\u001b[0;32m     55\u001b[0m         weighted_outcomes = clipped.groupby('strata').agg({\n",
      "\u001b[1;31mValueError\u001b[0m: Method requires strata with number of data points per treatment > clipping_threshold (=10). No such strata exists. Consider decreasing 'num_strata' or 'clipping_threshold' parameters."
     ]
    }
   ],
   "source": [
    "causal_estimate = model.estimate_effect(identified_estimand,\n",
    "        method_name=\"backdoor.propensity_score_stratification\")\n",
    "print(causal_estimate)\n",
    "print(\"Causal Estimate is \" + str(causal_estimate.value))"
   ]
  },
  {
   "cell_type": "code",
   "execution_count": 11,
   "metadata": {},
   "outputs": [
    {
     "name": "stdout",
     "output_type": "stream",
     "text": [
      "Refute: Add a Random Common Cause\n",
      "Estimated effect:0.0\n",
      "New effect:0.0\n",
      "\n",
      "++++++++++++++++++++++++++++++++++++++++\n",
      "Refute: Use a Placebo Treatment\n",
      "Estimated effect:0.0\n",
      "New effect:0.0\n",
      "p value:1.0\n",
      "\n",
      "++++++++++++++++++++++++++++++++++++++++\n",
      "Refute: Use a subset of data\n",
      "Estimated effect:0.0\n",
      "New effect:0.0\n",
      "p value:1.0\n",
      "\n"
     ]
    }
   ],
   "source": [
    "refutel = model.refute_estimate(identified_estimand,causal_estimate, \"random_common_cause\")\n",
    "print(refutel)\n",
    "print(\"++\"*20)\n",
    "refutel = model.refute_estimate(identified_estimand,causal_estimate,method_name=\"placebo_treatment_refuter\",placebo_type=\"permute\")\n",
    "print(refutel)\n",
    "print(\"++\"*20)\n",
    "refutel = model.refute_estimate(identified_estimand,causal_estimate, \"data_subset_refuter\")\n",
    "print(refutel)"
   ]
  },
  {
   "cell_type": "code",
   "execution_count": null,
   "metadata": {},
   "outputs": [],
   "source": [
    "# Causal effect on the control group (ATC)\n",
    "causal_estimate_att = model.estimate_effect(identified_estimand,\n",
    "        method_name=\"backdoor.propensity_score_stratification\",\n",
    "        target_units = \"atc\")\n",
    "print(causal_estimate_att)\n",
    "print(\"Causal Estimate is \" + str(causal_estimate_att.value))"
   ]
  },
  {
   "cell_type": "markdown",
   "metadata": {},
   "source": [
    "# Add Random Common Cause"
   ]
  },
  {
   "cell_type": "code",
   "execution_count": null,
   "metadata": {},
   "outputs": [],
   "source": [
    "refutel = model.refute_estimate(identified_estimand,causal_estimate, \"random_common_cause\")\n",
    "print(refutel)"
   ]
  },
  {
   "cell_type": "markdown",
   "metadata": {},
   "source": [
    "# Replace Treatment with Placebo"
   ]
  },
  {
   "cell_type": "code",
   "execution_count": null,
   "metadata": {},
   "outputs": [],
   "source": [
    "refutel = model.refute_estimate(identified_estimand,causal_estimate,method_name=\"placebo_treatment_refuter\",placebo_type=\"permute\")\n",
    "print(refutel)"
   ]
  },
  {
   "cell_type": "markdown",
   "metadata": {},
   "source": [
    "# Remove Random Subset of Data"
   ]
  },
  {
   "cell_type": "code",
   "execution_count": null,
   "metadata": {},
   "outputs": [],
   "source": [
    "refutel = model.refute_estimate(identified_estimand,causal_estimate, \"data_subset_refuter\")\n",
    "print(refutel)"
   ]
  },
  {
   "cell_type": "code",
   "execution_count": null,
   "metadata": {},
   "outputs": [],
   "source": []
  }
 ],
 "metadata": {
  "kernelspec": {
   "display_name": "Python 3",
   "language": "python",
   "name": "python3"
  },
  "language_info": {
   "codemirror_mode": {
    "name": "ipython",
    "version": 3
   },
   "file_extension": ".py",
   "mimetype": "text/x-python",
   "name": "python",
   "nbconvert_exporter": "python",
   "pygments_lexer": "ipython3",
   "version": "3.7.3"
  }
 },
 "nbformat": 4,
 "nbformat_minor": 2
}
