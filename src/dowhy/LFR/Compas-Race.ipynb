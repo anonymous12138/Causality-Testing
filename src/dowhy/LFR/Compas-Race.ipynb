{
 "cells": [
  {
   "cell_type": "code",
   "execution_count": null,
   "metadata": {},
   "outputs": [],
   "source": [
    "# Example - https://github.com/cornelliusyudhawijaya/Churn_Causality_Analysis/blob/main/Causal%20Analysis%20Do%20Why.ipynb\n",
    "    \n",
    "import numpy as np\n",
    "import pandas as pd\n",
    "\n",
    "from dowhy import CausalModel\n",
    "import dowhy.datasets \n",
    "\n",
    "# Avoid printing dataconversion warnings from sklearn and numpy\n",
    "import warnings\n",
    "from sklearn.exceptions import DataConversionWarning\n",
    "warnings.filterwarnings('ignore')"
   ]
  },
  {
   "cell_type": "code",
   "execution_count": null,
   "metadata": {},
   "outputs": [],
   "source": [
    "data = pd.read_csv('../../../data/compas-scores-two-years.csv')\n",
    "\n",
    "## Removed two duplicate coumns - 'decile_score','priors_count'\n",
    "data = data.drop(['id','name','first','last','compas_screening_date',\n",
    "                                  'dob','age','juv_fel_count','decile_score',\n",
    "                                  'juv_misd_count','juv_other_count','days_b_screening_arrest',\n",
    "                                  'c_jail_in','c_jail_out','c_case_number','c_offense_date','c_arrest_date',\n",
    "                                  'c_days_from_compas','c_charge_desc','is_recid','r_case_number','r_charge_degree',\n",
    "                                  'r_days_from_arrest','r_offense_date','r_charge_desc','r_jail_in','r_jail_out',\n",
    "                                  'violent_recid','is_violent_recid','vr_case_number','vr_charge_degree','vr_offense_date',\n",
    "                                  'vr_charge_desc','type_of_assessment','decile_score','score_text','screening_date',\n",
    "                                  'v_type_of_assessment','v_decile_score','v_score_text','v_screening_date','in_custody',\n",
    "                                  'out_custody','start','end','event'],axis=1)\n",
    "\n",
    "## Drop NULL values\n",
    "data = data.dropna()\n",
    "\n",
    "data.rename(index=str, columns={\"two_year_recid\": \"Probability\"}, inplace=True)\n",
    "data['sex'] = np.where(data['sex'] == 'Female', 1, 0)\n",
    "data['race'] = np.where(data['race'] != 'Caucasian', 0, 1)\n",
    "\n",
    "non_numeric_columns = list(data.select_dtypes(exclude=[np.number]).columns)\n",
    "\n",
    "from sklearn.preprocessing import LabelEncoder\n",
    "\n",
    "le = LabelEncoder()\n",
    "\n",
    "for col in non_numeric_columns:\n",
    "    data[col] = le.fit_transform(data[col])\n",
    "\n",
    "print(non_numeric_columns)\n",
    "\n",
    "from sklearn.preprocessing import MinMaxScaler,StandardScaler\n",
    "\n",
    "scaler = MinMaxScaler()\n",
    "data = pd.DataFrame(scaler.fit_transform(data),columns = data.columns)\n",
    "\n",
    "protected_attribute = \"race\"\n",
    "\n",
    "print(data.head(5))"
   ]
  },
  {
   "cell_type": "markdown",
   "metadata": {},
   "source": [
    "# Transform data using LFR"
   ]
  },
  {
   "cell_type": "code",
   "execution_count": null,
   "metadata": {},
   "outputs": [],
   "source": [
    "from aif360.algorithms.preprocessing.lfr import LFR\n",
    "from aif360.datasets import BinaryLabelDataset\n",
    "from IPython.display import Markdown, display"
   ]
  },
  {
   "cell_type": "code",
   "execution_count": null,
   "metadata": {},
   "outputs": [],
   "source": [
    "privileged_groups = [{protected_attribute: 1}]\n",
    "unprivileged_groups = [{protected_attribute: 0}]\n",
    "\n",
    "TR = LFR(unprivileged_groups=unprivileged_groups,\n",
    "         privileged_groups=privileged_groups,\n",
    "         k=10, Ax=0.1, Ay=1.0, Az=2.0,\n",
    "         verbose=1)\n",
    "\n",
    "dataset_orig = BinaryLabelDataset(df=data, label_names=['Probability'], protected_attribute_names=[protected_attribute])\n",
    "\n",
    "TR.fit(dataset_orig, maxiter=5000, maxfun=5000)\n",
    "\n",
    "dataset_transf = TR.transform(dataset_orig)"
   ]
  },
  {
   "cell_type": "code",
   "execution_count": null,
   "metadata": {},
   "outputs": [],
   "source": [
    "df, yy = dataset_transf.convert_to_dataframe()"
   ]
  },
  {
   "cell_type": "code",
   "execution_count": null,
   "metadata": {},
   "outputs": [],
   "source": [
    "causal_graph = \"\"\"\n",
    "digraph {\n",
    "sex;\n",
    "age_cat;\n",
    "race;\n",
    "priors_count;\n",
    "c_charge_degree;\n",
    "Probability;\n",
    "U[label=\"Unobserved Confounders\"];\n",
    "sex -> Probability;\n",
    "sex -> age_cat; age_cat -> Probability;\n",
    "race -> Probability;\n",
    "sex -> c_charge_degree; c_charge_degree -> Probability;\n",
    "U->sex;U->race;U->Probability;\n",
    "}\n",
    "\"\"\"\n",
    "\n",
    "## dowhy works for binary inputs only\n",
    "\n",
    "\n",
    "df['Probability'] = np.where(df['Probability'] == 0, False, True)\n",
    "df[protected_attribute] = np.where(df[protected_attribute] == 1, True, False)"
   ]
  },
  {
   "cell_type": "code",
   "execution_count": null,
   "metadata": {},
   "outputs": [],
   "source": [
    "# With graph\n",
    "model=CausalModel(\n",
    "        data = df,\n",
    "        treatment=protected_attribute,\n",
    "        outcome=\"Probability\",\n",
    "        graph=causal_graph.replace(\"\\n\", \" \")\n",
    "        )\n",
    "model.view_model()"
   ]
  },
  {
   "cell_type": "code",
   "execution_count": null,
   "metadata": {},
   "outputs": [],
   "source": [
    "identified_estimand = model.identify_effect(proceed_when_unidentifiable=True)\n",
    "print(identified_estimand)"
   ]
  },
  {
   "cell_type": "code",
   "execution_count": null,
   "metadata": {},
   "outputs": [],
   "source": [
    "causal_estimate = model.estimate_effect(identified_estimand,\n",
    "        method_name=\"backdoor.propensity_score_stratification\")\n",
    "print(causal_estimate)\n",
    "print(\"Causal Estimate is \" + str(causal_estimate.value))"
   ]
  },
  {
   "cell_type": "code",
   "execution_count": null,
   "metadata": {},
   "outputs": [],
   "source": [
    "# Causal effect on the control group (ATC)\n",
    "causal_estimate_att = model.estimate_effect(identified_estimand,\n",
    "        method_name=\"backdoor.propensity_score_stratification\",\n",
    "        target_units = \"atc\")\n",
    "print(causal_estimate_att)\n",
    "print(\"Causal Estimate is \" + str(causal_estimate_att.value))"
   ]
  },
  {
   "cell_type": "markdown",
   "metadata": {},
   "source": [
    "# Add Random Common Cause"
   ]
  },
  {
   "cell_type": "code",
   "execution_count": null,
   "metadata": {},
   "outputs": [],
   "source": [
    "refutel = model.refute_estimate(identified_estimand,causal_estimate, \"random_common_cause\")\n",
    "print(refutel)"
   ]
  },
  {
   "cell_type": "markdown",
   "metadata": {},
   "source": [
    "# Replace Treatment with Placebo"
   ]
  },
  {
   "cell_type": "code",
   "execution_count": null,
   "metadata": {},
   "outputs": [],
   "source": [
    "refutel = model.refute_estimate(identified_estimand,causal_estimate,method_name=\"placebo_treatment_refuter\",placebo_type=\"permute\")\n",
    "print(refutel)"
   ]
  },
  {
   "cell_type": "markdown",
   "metadata": {},
   "source": [
    "# Remove Random Subset of Data"
   ]
  },
  {
   "cell_type": "code",
   "execution_count": null,
   "metadata": {},
   "outputs": [],
   "source": [
    "refutel = model.refute_estimate(identified_estimand,causal_estimate, \"data_subset_refuter\")\n",
    "print(refutel)"
   ]
  },
  {
   "cell_type": "code",
   "execution_count": null,
   "metadata": {},
   "outputs": [],
   "source": []
  }
 ],
 "metadata": {
  "kernelspec": {
   "display_name": "Python 3",
   "language": "python",
   "name": "python3"
  },
  "language_info": {
   "codemirror_mode": {
    "name": "ipython",
    "version": 3
   },
   "file_extension": ".py",
   "mimetype": "text/x-python",
   "name": "python",
   "nbconvert_exporter": "python",
   "pygments_lexer": "ipython3",
   "version": "3.6.4"
  }
 },
 "nbformat": 4,
 "nbformat_minor": 2
}
