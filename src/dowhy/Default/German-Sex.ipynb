{
 "cells": [
  {
   "cell_type": "code",
   "execution_count": null,
   "metadata": {},
   "outputs": [],
   "source": [
    "# Example - https://github.com/cornelliusyudhawijaya/Churn_Causality_Analysis/blob/main/Causal%20Analysis%20Do%20Why.ipynb\n",
    "    \n",
    "import numpy as np\n",
    "import pandas as pd\n",
    "\n",
    "from dowhy import CausalModel\n",
    "import dowhy.datasets \n",
    "\n",
    "# Avoid printing dataconversion warnings from sklearn and numpy\n",
    "import warnings\n",
    "from sklearn.exceptions import DataConversionWarning\n",
    "warnings.filterwarnings('ignore')"
   ]
  },
  {
   "cell_type": "code",
   "execution_count": null,
   "metadata": {},
   "outputs": [],
   "source": [
    "data = pd.read_csv('../../../data/GermanData.csv')\n",
    "\n",
    "## Drop categorical features\n",
    "data = data.drop(['1','2','4','5','8','10','11','12','14','15','16','17','18','19','20'],axis=1)\n",
    "\n",
    "\n",
    "## Drop NULL values\n",
    "data = data.dropna()\n",
    "\n",
    "## for dowhy\n",
    "## Change symbolics to numerics\n",
    "data['sex'] = np.where(data['sex'] == 'A91', 1, data['sex'])\n",
    "data['sex'] = np.where(data['sex'] == 'A92', 0, data['sex'])\n",
    "data['sex'] = np.where(data['sex'] == 'A93', 1, data['sex'])\n",
    "data['sex'] = np.where(data['sex'] == 'A94', 1, data['sex'])\n",
    "data['sex'] = np.where(data['sex'] == 'A95', 0, data['sex'])\n",
    "\n",
    "# mean = data.loc[:,\"age\"].mean()\n",
    "# data['age'] = np.where(data['age'] >= mean, 1, 0)\n",
    "data['age'] = np.where(data['age'] >= 25, 1, 0)\n",
    "data['credit_history'] = np.where(data['credit_history'] == 'A30', 1, data['credit_history'])\n",
    "data['credit_history'] = np.where(data['credit_history'] == 'A31', 1, data['credit_history'])\n",
    "data['credit_history'] = np.where(data['credit_history'] == 'A32', 1, data['credit_history'])\n",
    "data['credit_history'] = np.where(data['credit_history'] == 'A33', 2, data['credit_history'])\n",
    "data['credit_history'] = np.where(data['credit_history'] == 'A34', 3, data['credit_history'])\n",
    "\n",
    "data['savings'] = np.where(data['savings'] == 'A61', 1, data['savings'])\n",
    "data['savings'] = np.where(data['savings'] == 'A62', 1, data['savings'])\n",
    "data['savings'] = np.where(data['savings'] == 'A63', 2, data['savings'])\n",
    "data['savings'] = np.where(data['savings'] == 'A64', 2, data['savings'])\n",
    "data['savings'] = np.where(data['savings'] == 'A65', 3, data['savings'])\n",
    "\n",
    "data['employment'] = np.where(data['employment'] == 'A72', 1, data['employment'])\n",
    "data['employment'] = np.where(data['employment'] == 'A73', 1, data['employment'])\n",
    "data['employment'] = np.where(data['employment'] == 'A74', 2, data['employment'])\n",
    "data['employment'] = np.where(data['employment'] == 'A75', 2, data['employment'])\n",
    "data['employment'] = np.where(data['employment'] == 'A71', 3, data['employment'])\n",
    "\n",
    "data['Probability'] = np.where(data['Probability'] == 2, 0, 1)\n",
    "\n",
    "non_numeric_columns = list(data.select_dtypes(exclude=[np.number]).columns)\n",
    "\n",
    "from sklearn.preprocessing import LabelEncoder\n",
    "\n",
    "le = LabelEncoder()\n",
    "\n",
    "for col in non_numeric_columns:\n",
    "    data[col] = le.fit_transform(data[col])\n",
    "\n",
    "print(non_numeric_columns)\n",
    "\n",
    "from sklearn.preprocessing import MinMaxScaler,StandardScaler\n",
    "\n",
    "scaler = MinMaxScaler()\n",
    "data = pd.DataFrame(scaler.fit_transform(data),columns = data.columns)\n",
    "\n",
    "print(data.head(5))"
   ]
  },
  {
   "cell_type": "code",
   "execution_count": null,
   "metadata": {},
   "outputs": [],
   "source": [
    "# This dataset size is very small. So repeating it to make it bigger\n",
    "\n",
    "data = pd.concat([data]*5, ignore_index=True)"
   ]
  },
  {
   "cell_type": "code",
   "execution_count": null,
   "metadata": {},
   "outputs": [],
   "source": [
    "causal_graph = \"\"\"\n",
    "digraph {\n",
    "credit_history;\n",
    "savings;\n",
    "employment;\n",
    "age;\n",
    "sex;\n",
    "Probability;\n",
    "U[label=\"Unobserved Confounders\"];\n",
    "sex -> Probability;\n",
    "age -> employment; employment -> Probability;\n",
    "credit_history -> Probability;\n",
    "savings -> Probability;\n",
    "credit_history -> savings;\n",
    "U->sex;U->age;U->Probability;\n",
    "}\n",
    "\"\"\"\n",
    "\n",
    "## dowhy works for binary inputs only\n",
    "\n",
    "\n",
    "data['Probability'] = np.where(data['Probability'] == 0, False, True)\n",
    "data['sex'] = np.where(data['sex'] == 1, True, False)"
   ]
  },
  {
   "cell_type": "code",
   "execution_count": null,
   "metadata": {},
   "outputs": [],
   "source": [
    "# With graph\n",
    "model=CausalModel(\n",
    "        data = data,\n",
    "        treatment=\"sex\",\n",
    "        outcome=\"Probability\",\n",
    "        graph=causal_graph.replace(\"\\n\", \" \")\n",
    "        )\n",
    "model.view_model()\n"
   ]
  },
  {
   "cell_type": "code",
   "execution_count": null,
   "metadata": {},
   "outputs": [],
   "source": [
    "identified_estimand = model.identify_effect(proceed_when_unidentifiable=True)\n",
    "print(identified_estimand)"
   ]
  },
  {
   "cell_type": "code",
   "execution_count": null,
   "metadata": {},
   "outputs": [],
   "source": [
    "causal_estimate = model.estimate_effect(identified_estimand,\n",
    "        method_name=\"backdoor.propensity_score_stratification\")\n",
    "print(causal_estimate)\n",
    "print(\"Causal Estimate is \" + str(causal_estimate.value))"
   ]
  },
  {
   "cell_type": "code",
   "execution_count": null,
   "metadata": {},
   "outputs": [],
   "source": [
    "# Causal effect on the control group (ATC)\n",
    "causal_estimate_att = model.estimate_effect(identified_estimand,\n",
    "        method_name=\"backdoor.propensity_score_stratification\",\n",
    "        target_units = \"atc\")\n",
    "print(causal_estimate_att)\n",
    "print(\"Causal Estimate is \" + str(causal_estimate_att.value))"
   ]
  },
  {
   "cell_type": "markdown",
   "metadata": {},
   "source": [
    "# Add Random Common Cause"
   ]
  },
  {
   "cell_type": "code",
   "execution_count": null,
   "metadata": {},
   "outputs": [],
   "source": [
    "refutel = model.refute_estimate(identified_estimand,causal_estimate, \"random_common_cause\")\n",
    "print(refutel)"
   ]
  },
  {
   "cell_type": "markdown",
   "metadata": {},
   "source": [
    "# Replace Treatment with Placebo"
   ]
  },
  {
   "cell_type": "code",
   "execution_count": null,
   "metadata": {},
   "outputs": [],
   "source": [
    "refutel = model.refute_estimate(identified_estimand,causal_estimate,method_name=\"placebo_treatment_refuter\",placebo_type=\"permute\")\n",
    "print(refutel)"
   ]
  },
  {
   "cell_type": "markdown",
   "metadata": {},
   "source": [
    "# Remove Random Subset of Data"
   ]
  },
  {
   "cell_type": "code",
   "execution_count": null,
   "metadata": {},
   "outputs": [],
   "source": [
    "refutel = model.refute_estimate(identified_estimand,causal_estimate, \"data_subset_refuter\")\n",
    "print(refutel)"
   ]
  },
  {
   "cell_type": "code",
   "execution_count": null,
   "metadata": {},
   "outputs": [],
   "source": []
  }
 ],
 "metadata": {
  "kernelspec": {
   "display_name": "Python 3",
   "language": "python",
   "name": "python3"
  },
  "language_info": {
   "codemirror_mode": {
    "name": "ipython",
    "version": 3
   },
   "file_extension": ".py",
   "mimetype": "text/x-python",
   "name": "python",
   "nbconvert_exporter": "python",
   "pygments_lexer": "ipython3",
   "version": "3.6.4"
  }
 },
 "nbformat": 4,
 "nbformat_minor": 2
}
