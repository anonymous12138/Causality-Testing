{
 "cells": [
  {
   "cell_type": "code",
   "execution_count": null,
   "metadata": {},
   "outputs": [],
   "source": [
    "# Example - https://github.com/cornelliusyudhawijaya/Churn_Causality_Analysis/blob/main/Causal%20Analysis%20Do%20Why.ipynb\n",
    "    \n",
    "import numpy as np\n",
    "import pandas as pd\n",
    "\n",
    "from dowhy import CausalModel\n",
    "import dowhy.datasets \n",
    "\n",
    "# Avoid printing dataconversion warnings from sklearn and numpy\n",
    "import warnings\n",
    "from sklearn.exceptions import DataConversionWarning\n",
    "warnings.filterwarnings('ignore')"
   ]
  },
  {
   "cell_type": "markdown",
   "metadata": {},
   "source": [
    "# Prepare Data"
   ]
  },
  {
   "cell_type": "code",
   "execution_count": null,
   "metadata": {},
   "outputs": [],
   "source": [
    "data = pd.read_csv('../../../data/processed.cleveland.data.csv')\n",
    "\n",
    "## Drop categorical features\n",
    "## Drop NULL values\n",
    "data = data.dropna()\n",
    "\n",
    "\n",
    "## calculate mean of age column\n",
    "mean = data.loc[:,\"age\"].mean()\n",
    "data['age'] = np.where(data['age'] >= mean, 0, 1)\n",
    "\n",
    "## Make goal column binary\n",
    "data['Probability'] = np.where(data['Probability'] > 0, 1, 0)\n",
    "\n",
    "protected_attribute = 'age'\n",
    "\n",
    "from sklearn.preprocessing import MinMaxScaler\n",
    "\n",
    "scaler = MinMaxScaler()\n",
    "dataset_orig = pd.DataFrame(scaler.fit_transform(data),columns = data.columns)\n",
    "\n",
    "(dataset_orig.head(5))"
   ]
  },
  {
   "cell_type": "code",
   "execution_count": null,
   "metadata": {},
   "outputs": [],
   "source": [
    "# This dataset size is very small. So repeating it to make it bigger\n",
    "\n",
    "dataset_orig = pd.concat([dataset_orig]*5, ignore_index=True)"
   ]
  },
  {
   "cell_type": "markdown",
   "metadata": {},
   "source": [
    "# Default Fairness Metrics"
   ]
  },
  {
   "cell_type": "code",
   "execution_count": null,
   "metadata": {},
   "outputs": [],
   "source": [
    "from sklearn.model_selection import train_test_split\n",
    "from sklearn.linear_model import LogisticRegression\n",
    "from Measure import measure_final_score,calculate_recall,calculate_far,calculate_precision,calculate_accuracy\n",
    "protected_attribute = 'age'\n",
    "\n",
    "dataset_orig_train,dataset_orig_test = train_test_split(dataset_orig,test_size=0.2,random_state=0)\n",
    "X_train, y_train =  dataset_orig_train.loc[:, dataset_orig_train.columns != 'Probability'], dataset_orig_train['Probability']\n",
    "X_test, y_test = dataset_orig_test.loc[:, dataset_orig_test.columns != 'Probability'], dataset_orig_test['Probability']\n",
    "clf = LogisticRegression(C=1.0, penalty='l2', solver='liblinear', max_iter=100) # LSR\n",
    "clf.fit(X_train,y_train)\n",
    "# print(\"recall :\", measure_final_score(dataset_orig_test, clf, X_train, y_train, X_test, y_test, protected_attribute, 'recall'))\n",
    "# print(\"far :\",measure_final_score(dataset_orig_test, clf, X_train, y_train, X_test, y_test, protected_attribute, 'far'))\n",
    "# print(\"precision :\", measure_final_score(dataset_orig_test, clf, X_train, y_train, X_test, y_test, protected_attribute, 'precision'))\n",
    "# print(\"accuracy :\",measure_final_score(dataset_orig_test, clf, X_train, y_train, X_test, y_test, protected_attribute, 'accuracy'))\n",
    "# print(\"F1 Score :\",measure_final_score(dataset_orig_test, clf, X_train, y_train, X_test, y_test, protected_attribute, 'F1'))\n",
    "print(\"aod :\"+protected_attribute,measure_final_score(dataset_orig_test, clf, X_train, y_train, X_test, y_test, protected_attribute, 'aod'))\n",
    "print(\"eod :\"+protected_attribute,measure_final_score(dataset_orig_test, clf, X_train, y_train, X_test, y_test, protected_attribute, 'eod'))\n",
    "print(\"SPD:\",measure_final_score(dataset_orig_test, clf, X_train, y_train, X_test, y_test, protected_attribute, 'SPD'))\n",
    "print(\"DI:\",measure_final_score(dataset_orig_test, clf, X_train, y_train, X_test, y_test, protected_attribute, 'DI'))"
   ]
  },
  {
   "cell_type": "markdown",
   "metadata": {},
   "source": [
    "# Graph"
   ]
  },
  {
   "cell_type": "code",
   "execution_count": null,
   "metadata": {},
   "outputs": [],
   "source": [
    "# causal_graph = \"\"\"\n",
    "# digraph {\n",
    "# age;\n",
    "# fbs;\n",
    "# trestbps;\n",
    "# chol;\n",
    "# Probability;\n",
    "# U[label=\"Unobserved Confounders\"];\n",
    "# age -> trestbps; trestbps -> Probability;\n",
    "# chol -> trestbps; chol -> fbs;\n",
    "# age -> thalach; thalach -> disease;\n",
    "# age ->fbs; fbs -> disease;\n",
    "# age -> Probability;\n",
    "# U->age;U->Probability;\n",
    "# }\n",
    "# \"\"\"\n",
    "\n",
    "causal_graph = \"\"\"\n",
    "\n",
    "digraph {\n",
    "age;\n",
    "thalach;\n",
    "cp;\n",
    "thal;\n",
    "sex;\n",
    "exang;\n",
    "Probability;\n",
    "U[label=\"Unobserved Confounders\"];\n",
    "sex -> Probability;\n",
    "age -> thalch; thalch -> Probability;\n",
    "age -> cp; cp -> Probability\n",
    "age -> exang; exang -> Probability;\n",
    "thal -> Probability;\n",
    "age -> Probability;\n",
    "U->sex;U->age;U->Probability;\n",
    "}\n",
    "\n",
    "\"\"\"\n",
    "\n",
    "## dowhy works for binary inputs only\n",
    "dataset_orig_train['Probability'] = np.where(dataset_orig_train['Probability'] == 0, False, True)\n",
    "dataset_orig_train[protected_attribute] = np.where(dataset_orig_train[protected_attribute] == 1, True, False)"
   ]
  },
  {
   "cell_type": "code",
   "execution_count": null,
   "metadata": {},
   "outputs": [],
   "source": [
    "# With graph\n",
    "import time\n",
    "data1 = dataset_orig_train.copy()\n",
    "print(data1.shape)\n",
    "start = time.time()\n",
    "model=CausalModel(\n",
    "        data = data1,\n",
    "        treatment=\"age\",\n",
    "        outcome=\"Probability\",\n",
    "        graph=causal_graph.replace(\"\\n\", \" \")\n",
    "        )\n",
    "identified_estimand = model.identify_effect(proceed_when_unidentifiable=True)\n",
    "print(identified_estimand)\n",
    "causal_estimate = model.estimate_effect(identified_estimand,\n",
    "        method_name=\"backdoor.propensity_score_stratification\")\n",
    "print(causal_estimate)\n",
    "print(\"Causal Estimate is \" + str(causal_estimate.value))\n",
    "print(time.time()-start, \"==\"*20)\n",
    "refutel = model.refute_estimate(identified_estimand,causal_estimate, \"random_common_cause\")\n",
    "print(refutel)\n",
    "print(time.time()-start, \"==\"*20)\n",
    "refutel = model.refute_estimate(identified_estimand,causal_estimate, \"data_subset_refuter\")\n",
    "print(refutel)\n",
    "print(time.time()-start, \"==\"*20)\n",
    "refutel = model.refute_estimate(identified_estimand,causal_estimate,method_name=\"placebo_treatment_refuter\",placebo_type=\"permute\")\n",
    "print(refutel)\n",
    "print(time.time()-start, \"==\"*20)\n"
   ]
  },
  {
   "cell_type": "code",
   "execution_count": null,
   "metadata": {},
   "outputs": [],
   "source": [
    "# Causal effect on the control group (ATC)\n",
    "causal_estimate_att = model.estimate_effect(identified_estimand,\n",
    "        method_name=\"backdoor.propensity_score_stratification\",\n",
    "        target_units = \"atc\")\n",
    "print(causal_estimate_att)\n",
    "print(\"Causal Estimate is \" + str(causal_estimate_att.value))"
   ]
  },
  {
   "cell_type": "markdown",
   "metadata": {},
   "source": [
    "# Add Random Common Cause"
   ]
  },
  {
   "cell_type": "code",
   "execution_count": null,
   "metadata": {},
   "outputs": [],
   "source": [
    "refutel = model.refute_estimate(identified_estimand,causal_estimate, \"random_common_cause\")\n",
    "print(refutel)"
   ]
  },
  {
   "cell_type": "markdown",
   "metadata": {},
   "source": [
    "# Replace Treatment with Placebo"
   ]
  },
  {
   "cell_type": "code",
   "execution_count": null,
   "metadata": {},
   "outputs": [],
   "source": [
    "refutel = model.refute_estimate(identified_estimand,causal_estimate,method_name=\"placebo_treatment_refuter\",placebo_type=\"permute\")\n",
    "print(refutel)"
   ]
  },
  {
   "cell_type": "markdown",
   "metadata": {},
   "source": [
    "# Remove Random Subset of Data"
   ]
  },
  {
   "cell_type": "code",
   "execution_count": null,
   "metadata": {},
   "outputs": [],
   "source": [
    "refutel = model.refute_estimate(identified_estimand,causal_estimate, \"data_subset_refuter\", num_strate=1)\n",
    "print(refutel)"
   ]
  },
  {
   "cell_type": "code",
   "execution_count": null,
   "metadata": {},
   "outputs": [],
   "source": []
  }
 ],
 "metadata": {
  "kernelspec": {
   "display_name": "Python 3",
   "language": "python",
   "name": "python3"
  },
  "language_info": {
   "codemirror_mode": {
    "name": "ipython",
    "version": 3
   },
   "file_extension": ".py",
   "mimetype": "text/x-python",
   "name": "python",
   "nbconvert_exporter": "python",
   "pygments_lexer": "ipython3",
   "version": "3.7.3"
  }
 },
 "nbformat": 4,
 "nbformat_minor": 2
}
