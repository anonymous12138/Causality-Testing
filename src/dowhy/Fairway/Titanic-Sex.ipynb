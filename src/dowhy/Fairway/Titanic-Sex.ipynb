{
 "cells": [
  {
   "cell_type": "code",
   "execution_count": null,
   "metadata": {},
   "outputs": [],
   "source": [
    "# Example - https://github.com/cornelliusyudhawijaya/Churn_Causality_Analysis/blob/main/Causal%20Analysis%20Do%20Why.ipynb\n",
    "    \n",
    "import numpy as np\n",
    "import pandas as pd\n",
    "\n",
    "from dowhy import CausalModel\n",
    "import dowhy.datasets \n",
    "\n",
    "# Avoid printing dataconversion warnings from sklearn and numpy\n",
    "import warnings\n",
    "from sklearn.exceptions import DataConversionWarning\n",
    "warnings.filterwarnings('ignore')"
   ]
  },
  {
   "cell_type": "code",
   "execution_count": null,
   "metadata": {},
   "outputs": [],
   "source": [
    "dataset_orig = pd.read_csv('../../../data/Titanic.csv')\n",
    "\n",
    "## Drop categorical features\n",
    "dataset_orig = dataset_orig.drop(['Name','Ticket','Cabin','PassengerId','Embarked'],axis=1)\n",
    "\n",
    "## Drop NULL values\n",
    "dataset_orig = dataset_orig.dropna()\n",
    "\n",
    "## Drop NULL values\n",
    "dataset_orig = dataset_orig.fillna(0)\n",
    "\n",
    "## Change symbolics to numerics\n",
    "dataset_orig['sex'] = np.where(dataset_orig['sex'] == 'male', 1, 0)\n",
    "\n",
    "protected_attribute = 'sex'\n",
    "\n",
    "from sklearn.preprocessing import MinMaxScaler\n",
    "\n",
    "scaler = MinMaxScaler()\n",
    "dataset_orig = pd.DataFrame(scaler.fit_transform(dataset_orig),columns = dataset_orig.columns)\n",
    "print(dataset_orig.head(5))"
   ]
  },
  {
   "cell_type": "code",
   "execution_count": null,
   "metadata": {},
   "outputs": [],
   "source": [
    "# This dataset size is very small. So repeating it to make it bigger\n",
    "\n",
    "dataset_orig = pd.concat([dataset_orig]*10, ignore_index=True)\n",
    "dataset_orig_male , dataset_orig_female = [x for _, x in dataset_orig.groupby(dataset_orig[protected_attribute] == 0)]"
   ]
  },
  {
   "cell_type": "markdown",
   "metadata": {},
   "source": [
    "# Fairway"
   ]
  },
  {
   "cell_type": "code",
   "execution_count": null,
   "metadata": {},
   "outputs": [],
   "source": [
    "from sklearn.linear_model import LogisticRegression\n",
    "\n",
    "dataset_orig_male[protected_attribute] = 0\n",
    "X_train_male, y_train_male = dataset_orig_male.loc[:, dataset_orig_male.columns != 'Probability'], dataset_orig_male['Probability']\n",
    "clf_male = LogisticRegression(C=1.0, penalty='l2', solver='liblinear', max_iter=100)\n",
    "clf_male.fit(X_train_male, y_train_male)"
   ]
  },
  {
   "cell_type": "code",
   "execution_count": null,
   "metadata": {},
   "outputs": [],
   "source": [
    "X_train_female, y_train_female = dataset_orig_female.loc[:, dataset_orig_female.columns != 'Probability'], dataset_orig_female['Probability']\n",
    "clf_female = LogisticRegression(C=1.0, penalty='l2', solver='liblinear', max_iter=100)\n",
    "clf_female.fit(X_train_female, y_train_female)"
   ]
  },
  {
   "cell_type": "code",
   "execution_count": null,
   "metadata": {},
   "outputs": [],
   "source": [
    "print(dataset_orig.shape)\n",
    "\n",
    "df_removed = pd.DataFrame(columns=dataset_orig.columns)\n",
    "\n",
    "for index,row in dataset_orig.iterrows():\n",
    "    row_ = [row.values[0:len(row.values)-1]]\n",
    "    y_male = clf_male.predict(row_)\n",
    "    y_female = clf_female.predict(row_)\n",
    "    if y_male[0] != y_female[0]:        \n",
    "        df_removed = df_removed.append(row, ignore_index=True)\n",
    "        dataset_orig = dataset_orig.drop(index)\n",
    "        \n",
    "print(dataset_orig.shape)\n",
    "print(df_removed.shape)"
   ]
  },
  {
   "cell_type": "code",
   "execution_count": null,
   "metadata": {},
   "outputs": [],
   "source": [
    "dataset_orig"
   ]
  },
  {
   "cell_type": "code",
   "execution_count": null,
   "metadata": {},
   "outputs": [],
   "source": [
    "causal_graph = \"\"\"\n",
    "digraph {\n",
    "Age;\n",
    "sex;\n",
    "Fare;\n",
    "Probability;\n",
    "U[label=\"Unobserved Confounders\"];\n",
    "Age -> Probability;\n",
    "sex -> Probability;\n",
    "sex -> Fare; Fare -> Probability;\n",
    "U->sex;U->Probability;\n",
    "}\n",
    "\"\"\"\n",
    "\n",
    "## dowhy works for binary inputs only\n",
    "\n",
    "dataset_orig['Probability'] = np.where(dataset_orig['Probability'] == 0, False, True)\n",
    "dataset_orig[protected_attribute] = np.where(dataset_orig[protected_attribute] == 1, True, False)"
   ]
  },
  {
   "cell_type": "code",
   "execution_count": null,
   "metadata": {},
   "outputs": [],
   "source": [
    "# With graph\n",
    "model=CausalModel(\n",
    "        data = dataset_orig,\n",
    "        treatment=protected_attribute,\n",
    "        outcome=\"Probability\",\n",
    "        graph=causal_graph.replace(\"\\n\", \" \")\n",
    "        )\n",
    "model.view_model()"
   ]
  },
  {
   "cell_type": "code",
   "execution_count": null,
   "metadata": {},
   "outputs": [],
   "source": [
    "identified_estimand = model.identify_effect(proceed_when_unidentifiable=True)\n",
    "print(identified_estimand)"
   ]
  },
  {
   "cell_type": "code",
   "execution_count": null,
   "metadata": {},
   "outputs": [],
   "source": [
    "causal_estimate = model.estimate_effect(identified_estimand,\n",
    "        method_name=\"backdoor.propensity_score_stratification\")\n",
    "print(causal_estimate)\n",
    "print(\"Causal Estimate is \" + str(causal_estimate.value))"
   ]
  },
  {
   "cell_type": "code",
   "execution_count": null,
   "metadata": {},
   "outputs": [],
   "source": [
    "# Causal effect on the control group (ATC)\n",
    "causal_estimate_att = model.estimate_effect(identified_estimand,\n",
    "        method_name=\"backdoor.propensity_score_stratification\",\n",
    "        target_units = \"atc\")\n",
    "print(causal_estimate_att)\n",
    "print(\"Causal Estimate is \" + str(causal_estimate_att.value))"
   ]
  },
  {
   "cell_type": "markdown",
   "metadata": {},
   "source": [
    "# Add Random Common Cause"
   ]
  },
  {
   "cell_type": "code",
   "execution_count": null,
   "metadata": {},
   "outputs": [],
   "source": [
    "refutel = model.refute_estimate(identified_estimand,causal_estimate, \"random_common_cause\")\n",
    "print(refutel)"
   ]
  },
  {
   "cell_type": "markdown",
   "metadata": {},
   "source": [
    "# Replace Treatment with Placebo"
   ]
  },
  {
   "cell_type": "code",
   "execution_count": null,
   "metadata": {},
   "outputs": [],
   "source": [
    "refutel = model.refute_estimate(identified_estimand,causal_estimate,method_name=\"placebo_treatment_refuter\",placebo_type=\"permute\")\n",
    "print(refutel)"
   ]
  },
  {
   "cell_type": "markdown",
   "metadata": {},
   "source": [
    "# Remove Random Subset of Data"
   ]
  },
  {
   "cell_type": "code",
   "execution_count": null,
   "metadata": {},
   "outputs": [],
   "source": [
    "refutel = model.refute_estimate(identified_estimand,causal_estimate, \"data_subset_refuter\")\n",
    "print(refutel)"
   ]
  },
  {
   "cell_type": "code",
   "execution_count": null,
   "metadata": {},
   "outputs": [],
   "source": []
  }
 ],
 "metadata": {
  "kernelspec": {
   "display_name": "Python 3",
   "language": "python",
   "name": "python3"
  },
  "language_info": {
   "codemirror_mode": {
    "name": "ipython",
    "version": 3
   },
   "file_extension": ".py",
   "mimetype": "text/x-python",
   "name": "python",
   "nbconvert_exporter": "python",
   "pygments_lexer": "ipython3",
   "version": "3.6.4"
  }
 },
 "nbformat": 4,
 "nbformat_minor": 2
}
