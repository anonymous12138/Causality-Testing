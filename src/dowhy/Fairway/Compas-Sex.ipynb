{
 "cells": [
  {
   "cell_type": "code",
   "execution_count": null,
   "metadata": {},
   "outputs": [],
   "source": [
    "# Example - https://github.com/cornelliusyudhawijaya/Churn_Causality_Analysis/blob/main/Causal%20Analysis%20Do%20Why.ipynb\n",
    "    \n",
    "import numpy as np\n",
    "import pandas as pd\n",
    "\n",
    "from dowhy import CausalModel\n",
    "import dowhy.datasets\n",
    "from sklearn.linear_model import LogisticRegression\n",
    "\n",
    "# Avoid printing dataconversion warnings from sklearn and numpy\n",
    "import warnings\n",
    "from sklearn.exceptions import DataConversionWarning\n",
    "warnings.filterwarnings('ignore')"
   ]
  },
  {
   "cell_type": "code",
   "execution_count": null,
   "metadata": {},
   "outputs": [],
   "source": [
    "dataset_orig = pd.read_csv('../../../data/compas-scores-two-years.csv')\n",
    "\n",
    "## Removed two duplicate coumns - 'decile_score','priors_count'\n",
    "dataset_orig = dataset_orig.drop(['id','name','first','last','compas_screening_date',\n",
    "                                  'dob','age','juv_fel_count','decile_score',\n",
    "                                  'juv_misd_count','juv_other_count','days_b_screening_arrest',\n",
    "                                  'c_jail_in','c_jail_out','c_case_number','c_offense_date','c_arrest_date',\n",
    "                                  'c_days_from_compas','c_charge_desc','is_recid','r_case_number','r_charge_degree',\n",
    "                                  'r_days_from_arrest','r_offense_date','r_charge_desc','r_jail_in','r_jail_out',\n",
    "                                  'violent_recid','is_violent_recid','vr_case_number','vr_charge_degree','vr_offense_date',\n",
    "                                  'vr_charge_desc','type_of_assessment','decile_score','score_text','screening_date',\n",
    "                                  'v_type_of_assessment','v_decile_score','v_score_text','v_screening_date','in_custody',\n",
    "                                  'out_custody','start','end','event'],axis=1)\n",
    "\n",
    "## Drop NULL values\n",
    "dataset_orig = dataset_orig.dropna()\n",
    "\n",
    "dataset_orig.rename(index=str, columns={\"two_year_recid\": \"Probability\"}, inplace=True)\n",
    "dataset_orig['sex'] = np.where(dataset_orig['sex'] == 'Female', 1, 0)\n",
    "dataset_orig['race'] = np.where(dataset_orig['race'] != 'Caucasian', 0, 1)\n",
    "\n",
    "non_numeric_columns = list(dataset_orig.select_dtypes(exclude=[np.number]).columns)\n",
    "\n",
    "from sklearn.preprocessing import LabelEncoder\n",
    "\n",
    "le = LabelEncoder()\n",
    "\n",
    "for col in non_numeric_columns:\n",
    "    dataset_orig[col] = le.fit_transform(dataset_orig[col])\n",
    "\n",
    "print(non_numeric_columns)\n",
    "\n",
    "from sklearn.preprocessing import MinMaxScaler,StandardScaler\n",
    "\n",
    "scaler = MinMaxScaler()\n",
    "dataset_orig = pd.DataFrame(scaler.fit_transform(dataset_orig),columns = dataset_orig.columns)\n",
    "\n",
    "# divide the data based on protected_attribute\n",
    "protected_attribute = \"sex\"\n",
    "dataset_orig_male , dataset_orig_female = [x for _, x in dataset_orig.groupby(dataset_orig[protected_attribute] == 0)]\n",
    "\n",
    "print(dataset_orig.head(5))"
   ]
  },
  {
   "cell_type": "code",
   "execution_count": null,
   "metadata": {},
   "outputs": [],
   "source": [
    "dataset_orig_male[protected_attribute] = 0\n",
    "X_train_male, y_train_male = dataset_orig_male.loc[:, dataset_orig_male.columns != 'Probability'], dataset_orig_male['Probability']\n",
    "clf_male = LogisticRegression(C=1.0, penalty='l2', solver='liblinear', max_iter=100)\n",
    "clf_male.fit(X_train_male, y_train_male)"
   ]
  },
  {
   "cell_type": "code",
   "execution_count": null,
   "metadata": {},
   "outputs": [],
   "source": [
    "X_train_female, y_train_female = dataset_orig_female.loc[:, dataset_orig_female.columns != 'Probability'], dataset_orig_female['Probability']\n",
    "clf_female = LogisticRegression(C=1.0, penalty='l2', solver='liblinear', max_iter=100)\n",
    "clf_female.fit(X_train_female, y_train_female)"
   ]
  },
  {
   "cell_type": "code",
   "execution_count": null,
   "metadata": {},
   "outputs": [],
   "source": [
    "print(dataset_orig.shape)\n",
    "\n",
    "df_removed = pd.DataFrame(columns=dataset_orig.columns)\n",
    "\n",
    "for index,row in dataset_orig.iterrows():\n",
    "    row_ = [row.values[0:len(row.values)-1]]\n",
    "    y_male = clf_male.predict(row_)\n",
    "    y_female = clf_female.predict(row_)\n",
    "    if y_male[0] != y_female[0]:        \n",
    "        df_removed = df_removed.append(row, ignore_index=True)\n",
    "        dataset_orig = dataset_orig.drop(index)\n",
    "        \n",
    "print(dataset_orig.shape)\n",
    "print(df_removed.shape)"
   ]
  },
  {
   "cell_type": "code",
   "execution_count": null,
   "metadata": {},
   "outputs": [],
   "source": [
    "dataset_orig"
   ]
  },
  {
   "cell_type": "code",
   "execution_count": null,
   "metadata": {},
   "outputs": [],
   "source": [
    "causal_graph = \"\"\"\n",
    "digraph {\n",
    "sex;\n",
    "age_cat;\n",
    "race;\n",
    "priors_count;\n",
    "c_charge_degree;\n",
    "Probability;\n",
    "U[label=\"Unobserved Confounders\"];\n",
    "sex -> Probability;\n",
    "sex -> age_cat; age_cat -> Probability;\n",
    "race -> Probability;\n",
    "sex -> c_charge_degree; c_charge_degree -> Probability;\n",
    "U->sex;U->race;U->Probability;\n",
    "}\n",
    "\"\"\"\n",
    "\n",
    "## dowhy works for binary inputs only\n",
    "\n",
    "dataset_orig['Probability'] = np.where(dataset_orig['Probability'] == 0, False, True)\n",
    "dataset_orig[protected_attribute] = np.where(dataset_orig[protected_attribute] == 1, True, False)"
   ]
  },
  {
   "cell_type": "code",
   "execution_count": null,
   "metadata": {},
   "outputs": [],
   "source": [
    "# With graph\n",
    "model=CausalModel(\n",
    "        data = dataset_orig,\n",
    "        treatment=protected_attribute,\n",
    "        outcome=\"Probability\",\n",
    "        graph=causal_graph.replace(\"\\n\", \" \")\n",
    "        )\n",
    "model.view_model()"
   ]
  },
  {
   "cell_type": "code",
   "execution_count": null,
   "metadata": {},
   "outputs": [],
   "source": [
    "identified_estimand = model.identify_effect(proceed_when_unidentifiable=True)\n",
    "print(identified_estimand)"
   ]
  },
  {
   "cell_type": "code",
   "execution_count": null,
   "metadata": {},
   "outputs": [],
   "source": [
    "causal_estimate = model.estimate_effect(identified_estimand,\n",
    "        method_name=\"backdoor.propensity_score_stratification\")\n",
    "print(causal_estimate)\n",
    "print(\"Causal Estimate is \" + str(causal_estimate.value))"
   ]
  },
  {
   "cell_type": "code",
   "execution_count": null,
   "metadata": {},
   "outputs": [],
   "source": [
    "# Causal effect on the control group (ATC)\n",
    "causal_estimate_att = model.estimate_effect(identified_estimand,\n",
    "        method_name=\"backdoor.propensity_score_stratification\",\n",
    "        target_units = \"atc\")\n",
    "print(causal_estimate_att)\n",
    "print(\"Causal Estimate is \" + str(causal_estimate_att.value))"
   ]
  },
  {
   "cell_type": "markdown",
   "metadata": {},
   "source": [
    "# Add Random Common Cause"
   ]
  },
  {
   "cell_type": "code",
   "execution_count": null,
   "metadata": {},
   "outputs": [],
   "source": [
    "refutel = model.refute_estimate(identified_estimand,causal_estimate, \"random_common_cause\")\n",
    "print(refutel)"
   ]
  },
  {
   "cell_type": "markdown",
   "metadata": {},
   "source": [
    "# Replace Treatment with Placebo"
   ]
  },
  {
   "cell_type": "code",
   "execution_count": null,
   "metadata": {},
   "outputs": [],
   "source": [
    "refutel = model.refute_estimate(identified_estimand,causal_estimate,method_name=\"placebo_treatment_refuter\",placebo_type=\"permute\")\n",
    "print(refutel)"
   ]
  },
  {
   "cell_type": "markdown",
   "metadata": {},
   "source": [
    "# Remove Random Subset of Data"
   ]
  },
  {
   "cell_type": "code",
   "execution_count": null,
   "metadata": {},
   "outputs": [],
   "source": [
    "refutel = model.refute_estimate(identified_estimand,causal_estimate, \"data_subset_refuter\")\n",
    "print(refutel)"
   ]
  },
  {
   "cell_type": "code",
   "execution_count": null,
   "metadata": {},
   "outputs": [],
   "source": []
  }
 ],
 "metadata": {
  "kernelspec": {
   "display_name": "Python 3",
   "language": "python",
   "name": "python3"
  },
  "language_info": {
   "codemirror_mode": {
    "name": "ipython",
    "version": 3
   },
   "file_extension": ".py",
   "mimetype": "text/x-python",
   "name": "python",
   "nbconvert_exporter": "python",
   "pygments_lexer": "ipython3",
   "version": "3.6.4"
  }
 },
 "nbformat": 4,
 "nbformat_minor": 2
}
