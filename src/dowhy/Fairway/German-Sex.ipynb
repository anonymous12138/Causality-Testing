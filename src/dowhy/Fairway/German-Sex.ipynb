{
 "cells": [
  {
   "cell_type": "code",
   "execution_count": 1,
   "metadata": {},
   "outputs": [],
   "source": [
    "# Example - https://github.com/cornelliusyudhawijaya/Churn_Causality_Analysis/blob/main/Causal%20Analysis%20Do%20Why.ipynb\n",
    "    \n",
    "import numpy as np\n",
    "import pandas as pd\n",
    "\n",
    "from dowhy import CausalModel\n",
    "import dowhy.datasets\n",
    "from sklearn.linear_model import LogisticRegression\n",
    "\n",
    "# Avoid printing dataconversion warnings from sklearn and numpy\n",
    "import warnings\n",
    "from sklearn.exceptions import DataConversionWarning\n",
    "warnings.filterwarnings('ignore')"
   ]
  },
  {
   "cell_type": "markdown",
   "metadata": {},
   "source": [
    "# Prepare Data"
   ]
  },
  {
   "cell_type": "code",
   "execution_count": 2,
   "metadata": {},
   "outputs": [
    {
     "data": {
      "text/html": [
       "<div>\n",
       "<style scoped>\n",
       "    .dataframe tbody tr th:only-of-type {\n",
       "        vertical-align: middle;\n",
       "    }\n",
       "\n",
       "    .dataframe tbody tr th {\n",
       "        vertical-align: top;\n",
       "    }\n",
       "\n",
       "    .dataframe thead th {\n",
       "        text-align: right;\n",
       "    }\n",
       "</style>\n",
       "<table border=\"1\" class=\"dataframe\">\n",
       "  <thead>\n",
       "    <tr style=\"text-align: right;\">\n",
       "      <th></th>\n",
       "      <th>sex</th>\n",
       "      <th>age</th>\n",
       "      <th>employment=Unemployed</th>\n",
       "      <th>credit_history=Delay</th>\n",
       "      <th>credit_history=None/Paid</th>\n",
       "      <th>credit_history=Other</th>\n",
       "      <th>savings=500+</th>\n",
       "      <th>savings=&lt;500</th>\n",
       "      <th>savings=Unknown/None</th>\n",
       "      <th>employment=1-4 years</th>\n",
       "      <th>employment=4+ years</th>\n",
       "      <th>Probability</th>\n",
       "    </tr>\n",
       "  </thead>\n",
       "  <tbody>\n",
       "    <tr>\n",
       "      <th>0</th>\n",
       "      <td>1.0</td>\n",
       "      <td>1.0</td>\n",
       "      <td>0.0</td>\n",
       "      <td>0.0</td>\n",
       "      <td>0.0</td>\n",
       "      <td>1.0</td>\n",
       "      <td>0.0</td>\n",
       "      <td>0.0</td>\n",
       "      <td>1.0</td>\n",
       "      <td>0.0</td>\n",
       "      <td>1.0</td>\n",
       "      <td>1.0</td>\n",
       "    </tr>\n",
       "    <tr>\n",
       "      <th>1</th>\n",
       "      <td>0.0</td>\n",
       "      <td>0.0</td>\n",
       "      <td>0.0</td>\n",
       "      <td>1.0</td>\n",
       "      <td>0.0</td>\n",
       "      <td>0.0</td>\n",
       "      <td>1.0</td>\n",
       "      <td>0.0</td>\n",
       "      <td>0.0</td>\n",
       "      <td>1.0</td>\n",
       "      <td>0.0</td>\n",
       "      <td>0.0</td>\n",
       "    </tr>\n",
       "    <tr>\n",
       "      <th>2</th>\n",
       "      <td>1.0</td>\n",
       "      <td>1.0</td>\n",
       "      <td>0.0</td>\n",
       "      <td>0.0</td>\n",
       "      <td>0.0</td>\n",
       "      <td>1.0</td>\n",
       "      <td>1.0</td>\n",
       "      <td>0.0</td>\n",
       "      <td>0.0</td>\n",
       "      <td>0.0</td>\n",
       "      <td>1.0</td>\n",
       "      <td>1.0</td>\n",
       "    </tr>\n",
       "    <tr>\n",
       "      <th>3</th>\n",
       "      <td>1.0</td>\n",
       "      <td>1.0</td>\n",
       "      <td>0.0</td>\n",
       "      <td>1.0</td>\n",
       "      <td>0.0</td>\n",
       "      <td>0.0</td>\n",
       "      <td>1.0</td>\n",
       "      <td>0.0</td>\n",
       "      <td>0.0</td>\n",
       "      <td>0.0</td>\n",
       "      <td>1.0</td>\n",
       "      <td>1.0</td>\n",
       "    </tr>\n",
       "    <tr>\n",
       "      <th>4</th>\n",
       "      <td>1.0</td>\n",
       "      <td>1.0</td>\n",
       "      <td>0.0</td>\n",
       "      <td>0.0</td>\n",
       "      <td>1.0</td>\n",
       "      <td>0.0</td>\n",
       "      <td>1.0</td>\n",
       "      <td>0.0</td>\n",
       "      <td>0.0</td>\n",
       "      <td>1.0</td>\n",
       "      <td>0.0</td>\n",
       "      <td>0.0</td>\n",
       "    </tr>\n",
       "  </tbody>\n",
       "</table>\n",
       "</div>"
      ],
      "text/plain": [
       "   sex  age  employment=Unemployed  credit_history=Delay  \\\n",
       "0  1.0  1.0                    0.0                   0.0   \n",
       "1  0.0  0.0                    0.0                   1.0   \n",
       "2  1.0  1.0                    0.0                   0.0   \n",
       "3  1.0  1.0                    0.0                   1.0   \n",
       "4  1.0  1.0                    0.0                   0.0   \n",
       "\n",
       "   credit_history=None/Paid  credit_history=Other  savings=500+  savings=<500  \\\n",
       "0                       0.0                   1.0           0.0           0.0   \n",
       "1                       0.0                   0.0           1.0           0.0   \n",
       "2                       0.0                   1.0           1.0           0.0   \n",
       "3                       0.0                   0.0           1.0           0.0   \n",
       "4                       1.0                   0.0           1.0           0.0   \n",
       "\n",
       "   savings=Unknown/None  employment=1-4 years  employment=4+ years  \\\n",
       "0                   1.0                   0.0                  1.0   \n",
       "1                   0.0                   1.0                  0.0   \n",
       "2                   0.0                   0.0                  1.0   \n",
       "3                   0.0                   0.0                  1.0   \n",
       "4                   0.0                   1.0                  0.0   \n",
       "\n",
       "   Probability  \n",
       "0          1.0  \n",
       "1          0.0  \n",
       "2          1.0  \n",
       "3          1.0  \n",
       "4          0.0  "
      ]
     },
     "execution_count": 2,
     "metadata": {},
     "output_type": "execute_result"
    }
   ],
   "source": [
    "data = pd.read_csv('../../../data/GermanData.csv')\n",
    "\n",
    "## Drop categorical features\n",
    "data = data.drop(['1','2','4','5','8','10','11','12','14','15','16','17','18','19','20'],axis=1)\n",
    "\n",
    "\n",
    "## Drop NULL values\n",
    "data = data.dropna()\n",
    "\n",
    "## for dowhy\n",
    "## Change symbolics to numerics\n",
    "data['sex'] = np.where(data['sex'] == 'A91', 1, data['sex'])\n",
    "data['sex'] = np.where(data['sex'] == 'A92', 0, data['sex'])\n",
    "data['sex'] = np.where(data['sex'] == 'A93', 1, data['sex'])\n",
    "data['sex'] = np.where(data['sex'] == 'A94', 1, data['sex'])\n",
    "data['sex'] = np.where(data['sex'] == 'A95', 0, data['sex'])\n",
    "\n",
    "# mean = data.loc[:,\"age\"].mean()\n",
    "# data['age'] = np.where(data['age'] >= mean, 1, 0)\n",
    "data['age'] = np.where(data['age'] >= 25, 1, 0)\n",
    "data['credit_history'] = np.where(data['credit_history'] == 'A30', 1, data['credit_history'])\n",
    "data['credit_history'] = np.where(data['credit_history'] == 'A31', 1, data['credit_history'])\n",
    "data['credit_history'] = np.where(data['credit_history'] == 'A32', 1, data['credit_history'])\n",
    "data['credit_history'] = np.where(data['credit_history'] == 'A33', 2, data['credit_history'])\n",
    "data['credit_history'] = np.where(data['credit_history'] == 'A34', 3, data['credit_history'])\n",
    "\n",
    "data['savings'] = np.where(data['savings'] == 'A61', 1, data['savings'])\n",
    "data['savings'] = np.where(data['savings'] == 'A62', 1, data['savings'])\n",
    "data['savings'] = np.where(data['savings'] == 'A63', 2, data['savings'])\n",
    "data['savings'] = np.where(data['savings'] == 'A64', 2, data['savings'])\n",
    "data['savings'] = np.where(data['savings'] == 'A65', 3, data['savings'])\n",
    "\n",
    "data['employment'] = np.where(data['employment'] == 'A72', 1, data['employment'])\n",
    "data['employment'] = np.where(data['employment'] == 'A73', 1, data['employment'])\n",
    "data['employment'] = np.where(data['employment'] == 'A74', 2, data['employment'])\n",
    "data['employment'] = np.where(data['employment'] == 'A75', 2, data['employment'])\n",
    "data['employment'] = np.where(data['employment'] == 'A71', 3, data['employment'])\n",
    "\n",
    "data['Probability'] = np.where(data['Probability'] == 2, 0, 1)\n",
    "\n",
    "non_numeric_columns = list(data.select_dtypes(exclude=[np.number]).columns)\n",
    "\n",
    "from sklearn.preprocessing import LabelEncoder\n",
    "\n",
    "le = LabelEncoder()\n",
    "\n",
    "for col in non_numeric_columns:\n",
    "    data[col] = le.fit_transform(data[col])\n",
    "\n",
    "print(non_numeric_columns)\n",
    "\n",
    "from sklearn.preprocessing import MinMaxScaler,StandardScaler\n",
    "\n",
    "scaler = MinMaxScaler()\n",
    "dataset_orig = pd.DataFrame(scaler.fit_transform(data),columns = data.columns)\n",
    "\n",
    "print(data.head(5))\n",
    "# This dataset size is very small. So repeating it to make it bigger\n",
    "dataset_orig = pd.concat([dataset_orig]*5, ignore_index=True)"
   ]
  },
  {
   "cell_type": "markdown",
   "metadata": {},
   "source": [
    "# Fairway"
   ]
  },
  {
   "cell_type": "code",
   "execution_count": 4,
   "metadata": {},
   "outputs": [
    {
     "name": "stdout",
     "output_type": "stream",
     "text": [
      "0.709\n",
      "aod :sex -0.06\n",
      "eod :sex 0.07\n",
      "SPD: 0.11\n",
      "DI: 0.11\n"
     ]
    }
   ],
   "source": [
    "from sklearn.model_selection import train_test_split\n",
    "from sklearn.linear_model import LogisticRegression\n",
    "from Measure import measure_final_score,calculate_recall,calculate_far,calculate_precision,calculate_accuracy\n",
    "protected_attribute = 'sex'\n",
    "\n",
    "dataset_orig_train,dataset_orig_test = train_test_split(dataset_orig,test_size=0.2,random_state=0)\n",
    "X_train, y_train =  dataset_orig_train.loc[:, dataset_orig_train.columns != 'Probability'], dataset_orig_train['Probability']\n",
    "X_test, y_test = dataset_orig_test.loc[:, dataset_orig_test.columns != 'Probability'], dataset_orig_test['Probability']\n",
    "\n",
    "dataset_orig_male , dataset_orig_female = [x for _, x in dataset_orig_train.groupby(dataset_orig_train[protected_attribute] == 0)]\n",
    "dataset_orig_male[protected_attribute] = 0\n",
    "X_train_male, y_train_male = dataset_orig_male.loc[:, dataset_orig_male.columns != 'Probability'], dataset_orig_male['Probability']\n",
    "clf_male = LogisticRegression(C=1.0, penalty='l2', solver='liblinear', max_iter=100)\n",
    "clf_male.fit(X_train_male, y_train_male)\n",
    "X_train_female, y_train_female = dataset_orig_female.loc[:, dataset_orig_female.columns != 'Probability'], dataset_orig_female['Probability']\n",
    "clf_female = LogisticRegression(C=1.0, penalty='l2', solver='liblinear', max_iter=100)\n",
    "clf_female.fit(X_train_female, y_train_female)\n",
    "\n",
    "for index,row in dataset_orig_train.iterrows():\n",
    "    row_ = [row.values[0:len(row.values)-1]]\n",
    "    y_male = clf_male.predict(row_)\n",
    "    y_female = clf_female.predict(row_)\n",
    "    if y_male[0] != y_female[0]:        \n",
    "        dataset_orig_train = dataset_orig_train.drop(index)\n",
    "\n",
    "X_train, y_train =  dataset_orig_train.loc[:, dataset_orig_train.columns != 'Probability'], dataset_orig_train['Probability']\n",
    "        \n",
    "clf = LogisticRegression(C=1.0, penalty='l2', solver='liblinear', max_iter=100) # LSR\n",
    "clf.fit(X_train,y_train)\n",
    "print(clf.score(X_test,y_test))\n",
    "print(\"aod :\"+protected_attribute,measure_final_score(dataset_orig_test, clf, X_train, y_train, X_test, y_test, protected_attribute, 'aod'))\n",
    "print(\"eod :\"+protected_attribute,measure_final_score(dataset_orig_test, clf, X_train, y_train, X_test, y_test, protected_attribute, 'eod'))\n",
    "print(\"SPD:\",measure_final_score(dataset_orig_test, clf, X_train, y_train, X_test, y_test, protected_attribute, 'SPD'))\n",
    "print(\"DI:\",measure_final_score(dataset_orig_test, clf, X_train, y_train, X_test, y_test, protected_attribute, 'DI'))"
   ]
  },
  {
   "cell_type": "markdown",
   "metadata": {},
   "source": [
    "# Graph"
   ]
  },
  {
   "cell_type": "code",
   "execution_count": 5,
   "metadata": {},
   "outputs": [],
   "source": [
    "causal_graph = \"\"\"\n",
    "digraph {\n",
    "credit_history;\n",
    "savings;\n",
    "employment;\n",
    "age;\n",
    "sex;\n",
    "Probability;\n",
    "U[label=\"Unobserved Confounders\"];\n",
    "\n",
    "sex -> Probability;\n",
    "sex -> employment; age -> employment; employment -> Probability;\n",
    "credit_history -> Probability;\n",
    "age -> savings;\n",
    "credit_history -> savings; \n",
    "savings -> Probability;\n",
    "U->sex;U->Probability;\n",
    "}\n",
    "\"\"\"\n",
    "\n",
    "## dowhy works for binary inputs only\n",
    "\n",
    "dataset_orig_train['Probability'] = np.where(dataset_orig_train['Probability'] == 0, False, True)\n",
    "dataset_orig_train[protected_attribute] = np.where(dataset_orig_train[protected_attribute] == 1, True, False)"
   ]
  },
  {
   "cell_type": "code",
   "execution_count": 7,
   "metadata": {},
   "outputs": [
    {
     "data": {
      "image/png": "[encoded data removed]",
      "text/plain": [
       "<Figure size 432x288 with 1 Axes>"
      ]
     },
     "metadata": {},
     "output_type": "display_data"
    }
   ],
   "source": [
    "# With graph\n",
    "model=CausalModel(\n",
    "        data = dataset_orig_train,\n",
    "        treatment=protected_attribute,\n",
    "        outcome=\"Probability\",\n",
    "#         instruments=['employment','credit_history']\n",
    "        graph=causal_graph.replace(\"\\n\", \" \")\n",
    "        )\n",
    "model.view_model()"
   ]
  },
  {
   "cell_type": "code",
   "execution_count": 8,
   "metadata": {},
   "outputs": [
    {
     "name": "stdout",
     "output_type": "stream",
     "text": [
      "Estimand type: nonparametric-ate\n",
      "\n",
      "### Estimand : 1\n",
      "Estimand name: backdoor\n",
      "Estimand expression:\n",
      "  d                                                        \n",
      "──────(Expectation(Probability|age,savings,credit_history))\n",
      "d[sex]                                                     \n",
      "Estimand assumption 1, Unconfoundedness: If U→{sex} and U→Probability then P(Probability|sex,age,savings,credit_history,U) = P(Probability|sex,age,savings,credit_history)\n",
      "\n",
      "### Estimand : 2\n",
      "Estimand name: iv\n",
      "No such variable found!\n",
      "\n",
      "### Estimand : 3\n",
      "Estimand name: frontdoor\n",
      "No such variable found!\n",
      "\n"
     ]
    }
   ],
   "source": [
    "identified_estimand = model.identify_effect(proceed_when_unidentifiable=True)\n",
    "print(identified_estimand)"
   ]
  },
  {
   "cell_type": "code",
   "execution_count": 9,
   "metadata": {},
   "outputs": [
    {
     "name": "stdout",
     "output_type": "stream",
     "text": [
      "*** Causal Estimate ***\n",
      "\n",
      "## Identified estimand\n",
      "Estimand type: nonparametric-ate\n",
      "\n",
      "### Estimand : 1\n",
      "Estimand name: backdoor\n",
      "Estimand expression:\n",
      "  d                                                        \n",
      "──────(Expectation(Probability|age,savings,credit_history))\n",
      "d[sex]                                                     \n",
      "Estimand assumption 1, Unconfoundedness: If U→{sex} and U→Probability then P(Probability|sex,age,savings,credit_history,U) = P(Probability|sex,age,savings,credit_history)\n",
      "\n",
      "## Realized estimand\n",
      "b: Probability~sex+age+savings+credit_history\n",
      "Target units: ate\n",
      "\n",
      "## Estimate\n",
      "Mean value: 0.035111114406813956\n",
      "\n",
      "Causal Estimate is 0.035111114406813956\n"
     ]
    }
   ],
   "source": [
    "causal_estimate = model.estimate_effect(identified_estimand,\n",
    "#                                         method_name='iv.instrumental_variable'\n",
    "                                      method_name=\"backdoor.propensity_score_stratification\"\n",
    "                                       )\n",
    "print(causal_estimate)\n",
    "print(\"Causal Estimate is \" + str(causal_estimate.value))"
   ]
  },
  {
   "cell_type": "code",
   "execution_count": null,
   "metadata": {},
   "outputs": [],
   "source": [
    "# Causal effect on the control group (ATC)\n",
    "causal_estimate_att = model.estimate_effect(identified_estimand,\n",
    "        method_name=\"backdoor.propensity_score_stratification\",\n",
    "        target_units = \"atc\")\n",
    "print(causal_estimate_att)\n",
    "print(\"Causal Estimate is \" + str(causal_estimate_att.value))"
   ]
  },
  {
   "cell_type": "markdown",
   "metadata": {},
   "source": [
    "# Add Random Common Cause"
   ]
  },
  {
   "cell_type": "code",
   "execution_count": 26,
   "metadata": {},
   "outputs": [
    {
     "name": "stdout",
     "output_type": "stream",
     "text": [
      "Refute: Add a Random Common Cause\n",
      "Estimated effect:0.035111114406813956\n",
      "New effect:0.029295937131710203\n",
      "\n"
     ]
    }
   ],
   "source": [
    "refutel = model.refute_estimate(identified_estimand,causal_estimate, \"random_common_cause\")\n",
    "print(refutel)"
   ]
  },
  {
   "cell_type": "markdown",
   "metadata": {},
   "source": [
    "# Replace Treatment with Placebo"
   ]
  },
  {
   "cell_type": "code",
   "execution_count": 19,
   "metadata": {},
   "outputs": [
    {
     "name": "stdout",
     "output_type": "stream",
     "text": [
      "Refute: Use a Placebo Treatment\n",
      "Estimated effect:0.044760822587506556\n",
      "New effect:0.0039099093325274436\n",
      "p value:0.34\n",
      "\n"
     ]
    }
   ],
   "source": [
    "refutel = model.refute_estimate(identified_estimand,causal_estimate,method_name=\"placebo_treatment_refuter\",placebo_type=\"permute\")\n",
    "print(refutel)"
   ]
  },
  {
   "cell_type": "markdown",
   "metadata": {},
   "source": [
    "# Remove Random Subset of Data"
   ]
  },
  {
   "cell_type": "code",
   "execution_count": 20,
   "metadata": {},
   "outputs": [
    {
     "name": "stdout",
     "output_type": "stream",
     "text": [
      "Refute: Use a subset of data\n",
      "Estimated effect:0.044760822587506556\n",
      "New effect:0.04428288725844259\n",
      "p value:0.48\n",
      "\n"
     ]
    }
   ],
   "source": [
    "refutel = model.refute_estimate(identified_estimand,causal_estimate, \"data_subset_refuter\")\n",
    "print(refutel)"
   ]
  },
  {
   "cell_type": "code",
   "execution_count": null,
   "metadata": {},
   "outputs": [],
   "source": []
  }
 ],
 "metadata": {
  "kernelspec": {
   "display_name": "Python 3",
   "language": "python",
   "name": "python3"
  },
  "language_info": {
   "codemirror_mode": {
    "name": "ipython",
    "version": 3
   },
   "file_extension": ".py",
   "mimetype": "text/x-python",
   "name": "python",
   "nbconvert_exporter": "python",
   "pygments_lexer": "ipython3",
   "version": "3.7.3"
  }
 },
 "nbformat": 4,
 "nbformat_minor": 2
}
